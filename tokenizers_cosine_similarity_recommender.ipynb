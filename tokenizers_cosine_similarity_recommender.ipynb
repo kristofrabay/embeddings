{
 "cells": [
  {
   "cell_type": "code",
   "execution_count": 44,
   "metadata": {},
   "outputs": [],
   "source": [
    "from sklearn.feature_extraction.text import CountVectorizer, TfidfVectorizer, ENGLISH_STOP_WORDS\n",
    "from sklearn.metrics.pairwise import cosine_similarity\n",
    "\n",
    "import pandas as pd\n",
    "import numpy as np\n",
    "import matplotlib.pyplot as plt\n",
    "import seaborn as sns\n",
    "\n",
    "import warnings\n",
    "warnings.filterwarnings('ignore')"
   ]
  },
  {
   "cell_type": "code",
   "execution_count": 3,
   "metadata": {},
   "outputs": [],
   "source": [
    "texts = ['Sasha had eggs for breakfast.', \n",
    "         'Breakfast is best served with eggs.',\n",
    "         'I do not want eggs for lunch, eggs are for breakfast',\n",
    "         'Lunch is after breakfast']"
   ]
  },
  {
   "cell_type": "code",
   "execution_count": 4,
   "metadata": {},
   "outputs": [
    {
     "data": {
      "text/plain": [
       "['Sasha had eggs for breakfast.',\n",
       " 'Breakfast is best served with eggs.',\n",
       " 'I do not want eggs for lunch, eggs are for breakfast',\n",
       " 'Lunch is after breakfast']"
      ]
     },
     "execution_count": 4,
     "metadata": {},
     "output_type": "execute_result"
    }
   ],
   "source": [
    "texts"
   ]
  },
  {
   "cell_type": "markdown",
   "metadata": {},
   "source": [
    "### CountVectorizer"
   ]
  },
  {
   "cell_type": "code",
   "execution_count": 5,
   "metadata": {},
   "outputs": [
    {
     "data": {
      "text/plain": [
       "CountVectorizer(analyzer='word', binary=False, decode_error='strict',\n",
       "                dtype=<class 'numpy.int64'>, encoding='utf-8', input='content',\n",
       "                lowercase=True, max_df=1.0, max_features=None, min_df=1,\n",
       "                ngram_range=(1, 1), preprocessor=None, stop_words=None,\n",
       "                strip_accents=None, token_pattern='(?u)\\\\b\\\\w\\\\w+\\\\b',\n",
       "                tokenizer=None, vocabulary=None)"
      ]
     },
     "execution_count": 5,
     "metadata": {},
     "output_type": "execute_result"
    }
   ],
   "source": [
    "vectorizer = CountVectorizer()\n",
    "vectorizer.fit(texts)"
   ]
  },
  {
   "cell_type": "markdown",
   "metadata": {},
   "source": [
    "Unique tokens, their indices"
   ]
  },
  {
   "cell_type": "code",
   "execution_count": 6,
   "metadata": {},
   "outputs": [
    {
     "name": "stdout",
     "output_type": "stream",
     "text": [
      "['after', 'are', 'best', 'breakfast', 'do', 'eggs', 'for', 'had', 'is', 'lunch', 'not', 'sasha', 'served', 'want', 'with']\n"
     ]
    }
   ],
   "source": [
    "print(vectorizer.get_feature_names())"
   ]
  },
  {
   "cell_type": "code",
   "execution_count": 7,
   "metadata": {},
   "outputs": [
    {
     "name": "stdout",
     "output_type": "stream",
     "text": [
      "{'after': 0, 'are': 1, 'best': 2, 'breakfast': 3, 'do': 4, 'eggs': 5, 'for': 6, 'had': 7, 'is': 8, 'lunch': 9, 'not': 10, 'sasha': 11, 'served': 12, 'want': 13, 'with': 14}\n"
     ]
    }
   ],
   "source": [
    "vocabulary = vectorizer.vocabulary_\n",
    "vocabulary = {k: v for k, v in sorted(vocabulary.items(), key = lambda item: item[1])} # sorting by value\n",
    "\n",
    "print(vocabulary)"
   ]
  },
  {
   "cell_type": "markdown",
   "metadata": {},
   "source": [
    "Transform documents"
   ]
  },
  {
   "cell_type": "code",
   "execution_count": 8,
   "metadata": {},
   "outputs": [
    {
     "data": {
      "text/html": [
       "<div>\n",
       "<style scoped>\n",
       "    .dataframe tbody tr th:only-of-type {\n",
       "        vertical-align: middle;\n",
       "    }\n",
       "\n",
       "    .dataframe tbody tr th {\n",
       "        vertical-align: top;\n",
       "    }\n",
       "\n",
       "    .dataframe thead th {\n",
       "        text-align: right;\n",
       "    }\n",
       "</style>\n",
       "<table border=\"1\" class=\"dataframe\">\n",
       "  <thead>\n",
       "    <tr style=\"text-align: right;\">\n",
       "      <th></th>\n",
       "      <th>after</th>\n",
       "      <th>are</th>\n",
       "      <th>best</th>\n",
       "      <th>breakfast</th>\n",
       "      <th>do</th>\n",
       "      <th>eggs</th>\n",
       "      <th>for</th>\n",
       "      <th>had</th>\n",
       "      <th>is</th>\n",
       "      <th>lunch</th>\n",
       "      <th>not</th>\n",
       "      <th>sasha</th>\n",
       "      <th>served</th>\n",
       "      <th>want</th>\n",
       "      <th>with</th>\n",
       "    </tr>\n",
       "  </thead>\n",
       "  <tbody>\n",
       "    <tr>\n",
       "      <th>Sasha had eggs for breakfast.</th>\n",
       "      <td>0</td>\n",
       "      <td>0</td>\n",
       "      <td>0</td>\n",
       "      <td>1</td>\n",
       "      <td>0</td>\n",
       "      <td>1</td>\n",
       "      <td>1</td>\n",
       "      <td>1</td>\n",
       "      <td>0</td>\n",
       "      <td>0</td>\n",
       "      <td>0</td>\n",
       "      <td>1</td>\n",
       "      <td>0</td>\n",
       "      <td>0</td>\n",
       "      <td>0</td>\n",
       "    </tr>\n",
       "    <tr>\n",
       "      <th>Breakfast is best served with eggs.</th>\n",
       "      <td>0</td>\n",
       "      <td>0</td>\n",
       "      <td>1</td>\n",
       "      <td>1</td>\n",
       "      <td>0</td>\n",
       "      <td>1</td>\n",
       "      <td>0</td>\n",
       "      <td>0</td>\n",
       "      <td>1</td>\n",
       "      <td>0</td>\n",
       "      <td>0</td>\n",
       "      <td>0</td>\n",
       "      <td>1</td>\n",
       "      <td>0</td>\n",
       "      <td>1</td>\n",
       "    </tr>\n",
       "    <tr>\n",
       "      <th>I do not want eggs for lunch, eggs are for breakfast</th>\n",
       "      <td>0</td>\n",
       "      <td>1</td>\n",
       "      <td>0</td>\n",
       "      <td>1</td>\n",
       "      <td>1</td>\n",
       "      <td>2</td>\n",
       "      <td>2</td>\n",
       "      <td>0</td>\n",
       "      <td>0</td>\n",
       "      <td>1</td>\n",
       "      <td>1</td>\n",
       "      <td>0</td>\n",
       "      <td>0</td>\n",
       "      <td>1</td>\n",
       "      <td>0</td>\n",
       "    </tr>\n",
       "    <tr>\n",
       "      <th>Lunch is after breakfast</th>\n",
       "      <td>1</td>\n",
       "      <td>0</td>\n",
       "      <td>0</td>\n",
       "      <td>1</td>\n",
       "      <td>0</td>\n",
       "      <td>0</td>\n",
       "      <td>0</td>\n",
       "      <td>0</td>\n",
       "      <td>1</td>\n",
       "      <td>1</td>\n",
       "      <td>0</td>\n",
       "      <td>0</td>\n",
       "      <td>0</td>\n",
       "      <td>0</td>\n",
       "      <td>0</td>\n",
       "    </tr>\n",
       "  </tbody>\n",
       "</table>\n",
       "</div>"
      ],
      "text/plain": [
       "                                                    after  are  best  \\\n",
       "Sasha had eggs for breakfast.                           0    0     0   \n",
       "Breakfast is best served with eggs.                     0    0     1   \n",
       "I do not want eggs for lunch, eggs are for brea...      0    1     0   \n",
       "Lunch is after breakfast                                1    0     0   \n",
       "\n",
       "                                                    breakfast  do  eggs  for  \\\n",
       "Sasha had eggs for breakfast.                               1   0     1    1   \n",
       "Breakfast is best served with eggs.                         1   0     1    0   \n",
       "I do not want eggs for lunch, eggs are for brea...          1   1     2    2   \n",
       "Lunch is after breakfast                                    1   0     0    0   \n",
       "\n",
       "                                                    had  is  lunch  not  \\\n",
       "Sasha had eggs for breakfast.                         1   0      0    0   \n",
       "Breakfast is best served with eggs.                   0   1      0    0   \n",
       "I do not want eggs for lunch, eggs are for brea...    0   0      1    1   \n",
       "Lunch is after breakfast                              0   1      1    0   \n",
       "\n",
       "                                                    sasha  served  want  with  \n",
       "Sasha had eggs for breakfast.                           1       0     0     0  \n",
       "Breakfast is best served with eggs.                     0       1     0     1  \n",
       "I do not want eggs for lunch, eggs are for brea...      0       0     1     0  \n",
       "Lunch is after breakfast                                0       0     0     0  "
      ]
     },
     "execution_count": 8,
     "metadata": {},
     "output_type": "execute_result"
    }
   ],
   "source": [
    "count_vector = vectorizer.transform(texts)\n",
    "transformed_doc_count = count_vector.toarray()\n",
    "transformed_doc_count_pretty = pd.DataFrame(transformed_doc_count, columns = vocabulary.keys(), index = texts)\n",
    "\n",
    "transformed_doc_count_pretty"
   ]
  },
  {
   "cell_type": "markdown",
   "metadata": {},
   "source": [
    "Remove **stopwords** upon applying CountVectorizer"
   ]
  },
  {
   "cell_type": "code",
   "execution_count": 9,
   "metadata": {},
   "outputs": [
    {
     "name": "stdout",
     "output_type": "stream",
     "text": [
      "{'best': 0, 'breakfast': 1, 'eggs': 2, 'lunch': 3, 'sasha': 4, 'served': 5, 'want': 6}\n"
     ]
    },
    {
     "data": {
      "text/html": [
       "<div>\n",
       "<style scoped>\n",
       "    .dataframe tbody tr th:only-of-type {\n",
       "        vertical-align: middle;\n",
       "    }\n",
       "\n",
       "    .dataframe tbody tr th {\n",
       "        vertical-align: top;\n",
       "    }\n",
       "\n",
       "    .dataframe thead th {\n",
       "        text-align: right;\n",
       "    }\n",
       "</style>\n",
       "<table border=\"1\" class=\"dataframe\">\n",
       "  <thead>\n",
       "    <tr style=\"text-align: right;\">\n",
       "      <th></th>\n",
       "      <th>best</th>\n",
       "      <th>breakfast</th>\n",
       "      <th>eggs</th>\n",
       "      <th>lunch</th>\n",
       "      <th>sasha</th>\n",
       "      <th>served</th>\n",
       "      <th>want</th>\n",
       "    </tr>\n",
       "  </thead>\n",
       "  <tbody>\n",
       "    <tr>\n",
       "      <th>Sasha had eggs for breakfast.</th>\n",
       "      <td>0</td>\n",
       "      <td>1</td>\n",
       "      <td>1</td>\n",
       "      <td>0</td>\n",
       "      <td>1</td>\n",
       "      <td>0</td>\n",
       "      <td>0</td>\n",
       "    </tr>\n",
       "    <tr>\n",
       "      <th>Breakfast is best served with eggs.</th>\n",
       "      <td>1</td>\n",
       "      <td>1</td>\n",
       "      <td>1</td>\n",
       "      <td>0</td>\n",
       "      <td>0</td>\n",
       "      <td>1</td>\n",
       "      <td>0</td>\n",
       "    </tr>\n",
       "    <tr>\n",
       "      <th>I do not want eggs for lunch, eggs are for breakfast</th>\n",
       "      <td>0</td>\n",
       "      <td>1</td>\n",
       "      <td>2</td>\n",
       "      <td>1</td>\n",
       "      <td>0</td>\n",
       "      <td>0</td>\n",
       "      <td>1</td>\n",
       "    </tr>\n",
       "    <tr>\n",
       "      <th>Lunch is after breakfast</th>\n",
       "      <td>0</td>\n",
       "      <td>1</td>\n",
       "      <td>0</td>\n",
       "      <td>1</td>\n",
       "      <td>0</td>\n",
       "      <td>0</td>\n",
       "      <td>0</td>\n",
       "    </tr>\n",
       "  </tbody>\n",
       "</table>\n",
       "</div>"
      ],
      "text/plain": [
       "                                                    best  breakfast  eggs  \\\n",
       "Sasha had eggs for breakfast.                          0          1     1   \n",
       "Breakfast is best served with eggs.                    1          1     1   \n",
       "I do not want eggs for lunch, eggs are for brea...     0          1     2   \n",
       "Lunch is after breakfast                               0          1     0   \n",
       "\n",
       "                                                    lunch  sasha  served  want  \n",
       "Sasha had eggs for breakfast.                           0      1       0     0  \n",
       "Breakfast is best served with eggs.                     0      0       1     0  \n",
       "I do not want eggs for lunch, eggs are for brea...      1      0       0     1  \n",
       "Lunch is after breakfast                                1      0       0     0  "
      ]
     },
     "execution_count": 9,
     "metadata": {},
     "output_type": "execute_result"
    }
   ],
   "source": [
    "vectorizer = CountVectorizer(stop_words = ENGLISH_STOP_WORDS)\n",
    "vectorizer.fit(texts)\n",
    "\n",
    "vocabulary = vectorizer.vocabulary_\n",
    "vocabulary = {k: v for k, v in sorted(vocabulary.items(), key = lambda item: item[1])} # sorting by value\n",
    "\n",
    "print(vocabulary)\n",
    "\n",
    "count_vector = vectorizer.transform(texts)\n",
    "transformed_doc = count_vector.toarray()\n",
    "transformed_doc_pretty = pd.DataFrame(transformed_doc, columns = vocabulary.keys(), index = texts)\n",
    "\n",
    "transformed_doc_pretty"
   ]
  },
  {
   "cell_type": "markdown",
   "metadata": {},
   "source": [
    "Use **ngrams**"
   ]
  },
  {
   "cell_type": "code",
   "execution_count": 10,
   "metadata": {},
   "outputs": [
    {
     "name": "stdout",
     "output_type": "stream",
     "text": [
      "{'best served': 0, 'breakfast best': 1, 'eggs breakfast': 2, 'eggs lunch': 3, 'lunch breakfast': 4, 'lunch eggs': 5, 'sasha eggs': 6, 'served eggs': 7, 'want eggs': 8}\n"
     ]
    },
    {
     "data": {
      "text/html": [
       "<div>\n",
       "<style scoped>\n",
       "    .dataframe tbody tr th:only-of-type {\n",
       "        vertical-align: middle;\n",
       "    }\n",
       "\n",
       "    .dataframe tbody tr th {\n",
       "        vertical-align: top;\n",
       "    }\n",
       "\n",
       "    .dataframe thead th {\n",
       "        text-align: right;\n",
       "    }\n",
       "</style>\n",
       "<table border=\"1\" class=\"dataframe\">\n",
       "  <thead>\n",
       "    <tr style=\"text-align: right;\">\n",
       "      <th></th>\n",
       "      <th>best served</th>\n",
       "      <th>breakfast best</th>\n",
       "      <th>eggs breakfast</th>\n",
       "      <th>eggs lunch</th>\n",
       "      <th>lunch breakfast</th>\n",
       "      <th>lunch eggs</th>\n",
       "      <th>sasha eggs</th>\n",
       "      <th>served eggs</th>\n",
       "      <th>want eggs</th>\n",
       "    </tr>\n",
       "  </thead>\n",
       "  <tbody>\n",
       "    <tr>\n",
       "      <th>Sasha had eggs for breakfast.</th>\n",
       "      <td>0</td>\n",
       "      <td>0</td>\n",
       "      <td>1</td>\n",
       "      <td>0</td>\n",
       "      <td>0</td>\n",
       "      <td>0</td>\n",
       "      <td>1</td>\n",
       "      <td>0</td>\n",
       "      <td>0</td>\n",
       "    </tr>\n",
       "    <tr>\n",
       "      <th>Breakfast is best served with eggs.</th>\n",
       "      <td>1</td>\n",
       "      <td>1</td>\n",
       "      <td>0</td>\n",
       "      <td>0</td>\n",
       "      <td>0</td>\n",
       "      <td>0</td>\n",
       "      <td>0</td>\n",
       "      <td>1</td>\n",
       "      <td>0</td>\n",
       "    </tr>\n",
       "    <tr>\n",
       "      <th>I do not want eggs for lunch, eggs are for breakfast</th>\n",
       "      <td>0</td>\n",
       "      <td>0</td>\n",
       "      <td>1</td>\n",
       "      <td>1</td>\n",
       "      <td>0</td>\n",
       "      <td>1</td>\n",
       "      <td>0</td>\n",
       "      <td>0</td>\n",
       "      <td>1</td>\n",
       "    </tr>\n",
       "    <tr>\n",
       "      <th>Lunch is after breakfast</th>\n",
       "      <td>0</td>\n",
       "      <td>0</td>\n",
       "      <td>0</td>\n",
       "      <td>0</td>\n",
       "      <td>1</td>\n",
       "      <td>0</td>\n",
       "      <td>0</td>\n",
       "      <td>0</td>\n",
       "      <td>0</td>\n",
       "    </tr>\n",
       "  </tbody>\n",
       "</table>\n",
       "</div>"
      ],
      "text/plain": [
       "                                                    best served  \\\n",
       "Sasha had eggs for breakfast.                                 0   \n",
       "Breakfast is best served with eggs.                           1   \n",
       "I do not want eggs for lunch, eggs are for brea...            0   \n",
       "Lunch is after breakfast                                      0   \n",
       "\n",
       "                                                    breakfast best  \\\n",
       "Sasha had eggs for breakfast.                                    0   \n",
       "Breakfast is best served with eggs.                              1   \n",
       "I do not want eggs for lunch, eggs are for brea...               0   \n",
       "Lunch is after breakfast                                         0   \n",
       "\n",
       "                                                    eggs breakfast  \\\n",
       "Sasha had eggs for breakfast.                                    1   \n",
       "Breakfast is best served with eggs.                              0   \n",
       "I do not want eggs for lunch, eggs are for brea...               1   \n",
       "Lunch is after breakfast                                         0   \n",
       "\n",
       "                                                    eggs lunch  \\\n",
       "Sasha had eggs for breakfast.                                0   \n",
       "Breakfast is best served with eggs.                          0   \n",
       "I do not want eggs for lunch, eggs are for brea...           1   \n",
       "Lunch is after breakfast                                     0   \n",
       "\n",
       "                                                    lunch breakfast  \\\n",
       "Sasha had eggs for breakfast.                                     0   \n",
       "Breakfast is best served with eggs.                               0   \n",
       "I do not want eggs for lunch, eggs are for brea...                0   \n",
       "Lunch is after breakfast                                          1   \n",
       "\n",
       "                                                    lunch eggs  sasha eggs  \\\n",
       "Sasha had eggs for breakfast.                                0           1   \n",
       "Breakfast is best served with eggs.                          0           0   \n",
       "I do not want eggs for lunch, eggs are for brea...           1           0   \n",
       "Lunch is after breakfast                                     0           0   \n",
       "\n",
       "                                                    served eggs  want eggs  \n",
       "Sasha had eggs for breakfast.                                 0          0  \n",
       "Breakfast is best served with eggs.                           1          0  \n",
       "I do not want eggs for lunch, eggs are for brea...            0          1  \n",
       "Lunch is after breakfast                                      0          0  "
      ]
     },
     "execution_count": 10,
     "metadata": {},
     "output_type": "execute_result"
    }
   ],
   "source": [
    "vectorizer = CountVectorizer(ngram_range = (2, 2), stop_words = ENGLISH_STOP_WORDS)\n",
    "vectorizer.fit(texts)\n",
    "\n",
    "vocabulary = vectorizer.vocabulary_\n",
    "vocabulary = {k: v for k, v in sorted(vocabulary.items(), key = lambda item: item[1])} # sorting by value\n",
    "\n",
    "print(vocabulary)\n",
    "\n",
    "count_vector = vectorizer.transform(texts)\n",
    "transformed_doc = count_vector.toarray()\n",
    "transformed_doc_pretty = pd.DataFrame(transformed_doc, columns = vocabulary.keys(), index = texts)\n",
    "\n",
    "transformed_doc_pretty"
   ]
  },
  {
   "cell_type": "code",
   "execution_count": null,
   "metadata": {},
   "outputs": [],
   "source": []
  },
  {
   "cell_type": "code",
   "execution_count": null,
   "metadata": {},
   "outputs": [],
   "source": []
  },
  {
   "cell_type": "markdown",
   "metadata": {},
   "source": [
    "### TF-IDF vectorizer"
   ]
  },
  {
   "cell_type": "code",
   "execution_count": 11,
   "metadata": {},
   "outputs": [
    {
     "data": {
      "text/plain": [
       "TfidfVectorizer(analyzer='word', binary=False, decode_error='strict',\n",
       "                dtype=<class 'numpy.float64'>, encoding='utf-8',\n",
       "                input='content', lowercase=True, max_df=1.0, max_features=None,\n",
       "                min_df=1, ngram_range=(1, 1), norm='l2', preprocessor=None,\n",
       "                smooth_idf=True, stop_words=None, strip_accents=None,\n",
       "                sublinear_tf=False, token_pattern='(?u)\\\\b\\\\w\\\\w+\\\\b',\n",
       "                tokenizer=None, use_idf=True, vocabulary=None)"
      ]
     },
     "execution_count": 11,
     "metadata": {},
     "output_type": "execute_result"
    }
   ],
   "source": [
    "vectorizer = TfidfVectorizer()\n",
    "vectorizer.fit(texts)"
   ]
  },
  {
   "cell_type": "code",
   "execution_count": 12,
   "metadata": {},
   "outputs": [
    {
     "name": "stdout",
     "output_type": "stream",
     "text": [
      "{'after': 0, 'are': 1, 'best': 2, 'breakfast': 3, 'do': 4, 'eggs': 5, 'for': 6, 'had': 7, 'is': 8, 'lunch': 9, 'not': 10, 'sasha': 11, 'served': 12, 'want': 13, 'with': 14}\n"
     ]
    }
   ],
   "source": [
    "vocabulary = vectorizer.vocabulary_\n",
    "vocabulary = {k: v for k, v in sorted(vocabulary.items(), key = lambda item: item[1])} # sorting by value\n",
    "\n",
    "print(vocabulary)"
   ]
  },
  {
   "cell_type": "markdown",
   "metadata": {},
   "source": [
    "Breakfast's idf value is the lowest (1), as it appears in all documents. 'Eggs', 'for', 'is' and 'lunch' have medium idf values, as they appear multiple times, but not in all docs. Other tokens appear once across the documents, so their idfs are highest"
   ]
  },
  {
   "cell_type": "code",
   "execution_count": 13,
   "metadata": {},
   "outputs": [
    {
     "data": {
      "text/plain": [
       "{'breakfast': 1.0,\n",
       " 'eggs': 1.2231435513142097,\n",
       " 'for': 1.5108256237659907,\n",
       " 'is': 1.5108256237659907,\n",
       " 'lunch': 1.5108256237659907,\n",
       " 'after': 1.916290731874155,\n",
       " 'are': 1.916290731874155,\n",
       " 'best': 1.916290731874155,\n",
       " 'do': 1.916290731874155,\n",
       " 'had': 1.916290731874155,\n",
       " 'not': 1.916290731874155,\n",
       " 'sasha': 1.916290731874155,\n",
       " 'served': 1.916290731874155,\n",
       " 'want': 1.916290731874155,\n",
       " 'with': 1.916290731874155}"
      ]
     },
     "execution_count": 13,
     "metadata": {},
     "output_type": "execute_result"
    }
   ],
   "source": [
    "idf = dict(zip(vectorizer.get_feature_names(), vectorizer.idf_))\n",
    "idf = {k: v for k, v in sorted(idf.items(), key = lambda item: item[1])} # sorting by value\n",
    "idf"
   ]
  },
  {
   "cell_type": "code",
   "execution_count": 14,
   "metadata": {},
   "outputs": [
    {
     "data": {
      "text/html": [
       "<div>\n",
       "<style scoped>\n",
       "    .dataframe tbody tr th:only-of-type {\n",
       "        vertical-align: middle;\n",
       "    }\n",
       "\n",
       "    .dataframe tbody tr th {\n",
       "        vertical-align: top;\n",
       "    }\n",
       "\n",
       "    .dataframe thead th {\n",
       "        text-align: right;\n",
       "    }\n",
       "</style>\n",
       "<table border=\"1\" class=\"dataframe\">\n",
       "  <thead>\n",
       "    <tr style=\"text-align: right;\">\n",
       "      <th></th>\n",
       "      <th>after</th>\n",
       "      <th>are</th>\n",
       "      <th>best</th>\n",
       "      <th>breakfast</th>\n",
       "      <th>do</th>\n",
       "      <th>eggs</th>\n",
       "      <th>for</th>\n",
       "      <th>had</th>\n",
       "      <th>is</th>\n",
       "      <th>lunch</th>\n",
       "      <th>not</th>\n",
       "      <th>sasha</th>\n",
       "      <th>served</th>\n",
       "      <th>want</th>\n",
       "      <th>with</th>\n",
       "    </tr>\n",
       "  </thead>\n",
       "  <tbody>\n",
       "    <tr>\n",
       "      <th>Sasha had eggs for breakfast.</th>\n",
       "      <td>0.000</td>\n",
       "      <td>0.000</td>\n",
       "      <td>0.000</td>\n",
       "      <td>0.287</td>\n",
       "      <td>0.000</td>\n",
       "      <td>0.351</td>\n",
       "      <td>0.434</td>\n",
       "      <td>0.55</td>\n",
       "      <td>0.000</td>\n",
       "      <td>0.000</td>\n",
       "      <td>0.000</td>\n",
       "      <td>0.55</td>\n",
       "      <td>0.000</td>\n",
       "      <td>0.000</td>\n",
       "      <td>0.000</td>\n",
       "    </tr>\n",
       "    <tr>\n",
       "      <th>Breakfast is best served with eggs.</th>\n",
       "      <td>0.000</td>\n",
       "      <td>0.000</td>\n",
       "      <td>0.482</td>\n",
       "      <td>0.252</td>\n",
       "      <td>0.000</td>\n",
       "      <td>0.308</td>\n",
       "      <td>0.000</td>\n",
       "      <td>0.00</td>\n",
       "      <td>0.380</td>\n",
       "      <td>0.000</td>\n",
       "      <td>0.000</td>\n",
       "      <td>0.00</td>\n",
       "      <td>0.482</td>\n",
       "      <td>0.000</td>\n",
       "      <td>0.482</td>\n",
       "    </tr>\n",
       "    <tr>\n",
       "      <th>I do not want eggs for lunch, eggs are for breakfast</th>\n",
       "      <td>0.000</td>\n",
       "      <td>0.333</td>\n",
       "      <td>0.000</td>\n",
       "      <td>0.174</td>\n",
       "      <td>0.333</td>\n",
       "      <td>0.425</td>\n",
       "      <td>0.525</td>\n",
       "      <td>0.00</td>\n",
       "      <td>0.000</td>\n",
       "      <td>0.263</td>\n",
       "      <td>0.333</td>\n",
       "      <td>0.00</td>\n",
       "      <td>0.000</td>\n",
       "      <td>0.333</td>\n",
       "      <td>0.000</td>\n",
       "    </tr>\n",
       "    <tr>\n",
       "      <th>Lunch is after breakfast</th>\n",
       "      <td>0.631</td>\n",
       "      <td>0.000</td>\n",
       "      <td>0.000</td>\n",
       "      <td>0.329</td>\n",
       "      <td>0.000</td>\n",
       "      <td>0.000</td>\n",
       "      <td>0.000</td>\n",
       "      <td>0.00</td>\n",
       "      <td>0.497</td>\n",
       "      <td>0.497</td>\n",
       "      <td>0.000</td>\n",
       "      <td>0.00</td>\n",
       "      <td>0.000</td>\n",
       "      <td>0.000</td>\n",
       "      <td>0.000</td>\n",
       "    </tr>\n",
       "  </tbody>\n",
       "</table>\n",
       "</div>"
      ],
      "text/plain": [
       "                                                    after    are   best  \\\n",
       "Sasha had eggs for breakfast.                       0.000  0.000  0.000   \n",
       "Breakfast is best served with eggs.                 0.000  0.000  0.482   \n",
       "I do not want eggs for lunch, eggs are for brea...  0.000  0.333  0.000   \n",
       "Lunch is after breakfast                            0.631  0.000  0.000   \n",
       "\n",
       "                                                    breakfast     do   eggs  \\\n",
       "Sasha had eggs for breakfast.                           0.287  0.000  0.351   \n",
       "Breakfast is best served with eggs.                     0.252  0.000  0.308   \n",
       "I do not want eggs for lunch, eggs are for brea...      0.174  0.333  0.425   \n",
       "Lunch is after breakfast                                0.329  0.000  0.000   \n",
       "\n",
       "                                                      for   had     is  lunch  \\\n",
       "Sasha had eggs for breakfast.                       0.434  0.55  0.000  0.000   \n",
       "Breakfast is best served with eggs.                 0.000  0.00  0.380  0.000   \n",
       "I do not want eggs for lunch, eggs are for brea...  0.525  0.00  0.000  0.263   \n",
       "Lunch is after breakfast                            0.000  0.00  0.497  0.497   \n",
       "\n",
       "                                                      not  sasha  served  \\\n",
       "Sasha had eggs for breakfast.                       0.000   0.55   0.000   \n",
       "Breakfast is best served with eggs.                 0.000   0.00   0.482   \n",
       "I do not want eggs for lunch, eggs are for brea...  0.333   0.00   0.000   \n",
       "Lunch is after breakfast                            0.000   0.00   0.000   \n",
       "\n",
       "                                                     want   with  \n",
       "Sasha had eggs for breakfast.                       0.000  0.000  \n",
       "Breakfast is best served with eggs.                 0.000  0.482  \n",
       "I do not want eggs for lunch, eggs are for brea...  0.333  0.000  \n",
       "Lunch is after breakfast                            0.000  0.000  "
      ]
     },
     "execution_count": 14,
     "metadata": {},
     "output_type": "execute_result"
    }
   ],
   "source": [
    "tfidf_vector = vectorizer.transform(texts)\n",
    "transformed_doc_tfidf = tfidf_vector.toarray()\n",
    "transformed_doc_tfidf_pretty = pd.DataFrame(transformed_doc_tfidf, columns = vocabulary.keys(), index = texts)\n",
    "\n",
    "transformed_doc_tfidf_pretty.round(3)"
   ]
  },
  {
   "cell_type": "markdown",
   "metadata": {},
   "source": [
    "Remove **stopwords**"
   ]
  },
  {
   "cell_type": "code",
   "execution_count": 15,
   "metadata": {},
   "outputs": [
    {
     "name": "stdout",
     "output_type": "stream",
     "text": [
      "{'best': 0, 'breakfast': 1, 'eggs': 2, 'lunch': 3, 'sasha': 4, 'served': 5, 'want': 6}\n"
     ]
    },
    {
     "data": {
      "text/html": [
       "<div>\n",
       "<style scoped>\n",
       "    .dataframe tbody tr th:only-of-type {\n",
       "        vertical-align: middle;\n",
       "    }\n",
       "\n",
       "    .dataframe tbody tr th {\n",
       "        vertical-align: top;\n",
       "    }\n",
       "\n",
       "    .dataframe thead th {\n",
       "        text-align: right;\n",
       "    }\n",
       "</style>\n",
       "<table border=\"1\" class=\"dataframe\">\n",
       "  <thead>\n",
       "    <tr style=\"text-align: right;\">\n",
       "      <th></th>\n",
       "      <th>best</th>\n",
       "      <th>breakfast</th>\n",
       "      <th>eggs</th>\n",
       "      <th>lunch</th>\n",
       "      <th>sasha</th>\n",
       "      <th>served</th>\n",
       "      <th>want</th>\n",
       "    </tr>\n",
       "  </thead>\n",
       "  <tbody>\n",
       "    <tr>\n",
       "      <th>Sasha had eggs for breakfast.</th>\n",
       "      <td>0.000</td>\n",
       "      <td>0.403</td>\n",
       "      <td>0.492</td>\n",
       "      <td>0.000</td>\n",
       "      <td>0.772</td>\n",
       "      <td>0.000</td>\n",
       "      <td>0.000</td>\n",
       "    </tr>\n",
       "    <tr>\n",
       "      <th>Breakfast is best served with eggs.</th>\n",
       "      <td>0.611</td>\n",
       "      <td>0.319</td>\n",
       "      <td>0.390</td>\n",
       "      <td>0.000</td>\n",
       "      <td>0.000</td>\n",
       "      <td>0.611</td>\n",
       "      <td>0.000</td>\n",
       "    </tr>\n",
       "    <tr>\n",
       "      <th>I do not want eggs for lunch, eggs are for breakfast</th>\n",
       "      <td>0.000</td>\n",
       "      <td>0.278</td>\n",
       "      <td>0.680</td>\n",
       "      <td>0.420</td>\n",
       "      <td>0.000</td>\n",
       "      <td>0.000</td>\n",
       "      <td>0.533</td>\n",
       "    </tr>\n",
       "    <tr>\n",
       "      <th>Lunch is after breakfast</th>\n",
       "      <td>0.000</td>\n",
       "      <td>0.552</td>\n",
       "      <td>0.000</td>\n",
       "      <td>0.834</td>\n",
       "      <td>0.000</td>\n",
       "      <td>0.000</td>\n",
       "      <td>0.000</td>\n",
       "    </tr>\n",
       "  </tbody>\n",
       "</table>\n",
       "</div>"
      ],
      "text/plain": [
       "                                                     best  breakfast   eggs  \\\n",
       "Sasha had eggs for breakfast.                       0.000      0.403  0.492   \n",
       "Breakfast is best served with eggs.                 0.611      0.319  0.390   \n",
       "I do not want eggs for lunch, eggs are for brea...  0.000      0.278  0.680   \n",
       "Lunch is after breakfast                            0.000      0.552  0.000   \n",
       "\n",
       "                                                    lunch  sasha  served  \\\n",
       "Sasha had eggs for breakfast.                       0.000  0.772   0.000   \n",
       "Breakfast is best served with eggs.                 0.000  0.000   0.611   \n",
       "I do not want eggs for lunch, eggs are for brea...  0.420  0.000   0.000   \n",
       "Lunch is after breakfast                            0.834  0.000   0.000   \n",
       "\n",
       "                                                     want  \n",
       "Sasha had eggs for breakfast.                       0.000  \n",
       "Breakfast is best served with eggs.                 0.000  \n",
       "I do not want eggs for lunch, eggs are for brea...  0.533  \n",
       "Lunch is after breakfast                            0.000  "
      ]
     },
     "execution_count": 15,
     "metadata": {},
     "output_type": "execute_result"
    }
   ],
   "source": [
    "vectorizer = TfidfVectorizer(stop_words = ENGLISH_STOP_WORDS)\n",
    "vectorizer.fit(texts)\n",
    "\n",
    "vocabulary = vectorizer.vocabulary_\n",
    "vocabulary = {k: v for k, v in sorted(vocabulary.items(), key = lambda item: item[1])} # sorting by value\n",
    "\n",
    "print(vocabulary)\n",
    "\n",
    "tfidf_vector = vectorizer.transform(texts)\n",
    "transformed_doc = tfidf_vector.toarray()\n",
    "transformed_doc_pretty = pd.DataFrame(transformed_doc, columns = vocabulary.keys(), index = texts)\n",
    "\n",
    "transformed_doc_pretty.round(3)"
   ]
  },
  {
   "cell_type": "markdown",
   "metadata": {},
   "source": [
    "Use **ngrams**"
   ]
  },
  {
   "cell_type": "code",
   "execution_count": 16,
   "metadata": {},
   "outputs": [
    {
     "name": "stdout",
     "output_type": "stream",
     "text": [
      "{'best served': 0, 'breakfast best': 1, 'eggs breakfast': 2, 'eggs lunch': 3, 'lunch breakfast': 4, 'lunch eggs': 5, 'sasha eggs': 6, 'served eggs': 7, 'want eggs': 8}\n"
     ]
    },
    {
     "data": {
      "text/html": [
       "<div>\n",
       "<style scoped>\n",
       "    .dataframe tbody tr th:only-of-type {\n",
       "        vertical-align: middle;\n",
       "    }\n",
       "\n",
       "    .dataframe tbody tr th {\n",
       "        vertical-align: top;\n",
       "    }\n",
       "\n",
       "    .dataframe thead th {\n",
       "        text-align: right;\n",
       "    }\n",
       "</style>\n",
       "<table border=\"1\" class=\"dataframe\">\n",
       "  <thead>\n",
       "    <tr style=\"text-align: right;\">\n",
       "      <th></th>\n",
       "      <th>best served</th>\n",
       "      <th>breakfast best</th>\n",
       "      <th>eggs breakfast</th>\n",
       "      <th>eggs lunch</th>\n",
       "      <th>lunch breakfast</th>\n",
       "      <th>lunch eggs</th>\n",
       "      <th>sasha eggs</th>\n",
       "      <th>served eggs</th>\n",
       "      <th>want eggs</th>\n",
       "    </tr>\n",
       "  </thead>\n",
       "  <tbody>\n",
       "    <tr>\n",
       "      <th>Sasha had eggs for breakfast.</th>\n",
       "      <td>0.000</td>\n",
       "      <td>0.000</td>\n",
       "      <td>0.619</td>\n",
       "      <td>0.000</td>\n",
       "      <td>0.0</td>\n",
       "      <td>0.000</td>\n",
       "      <td>0.785</td>\n",
       "      <td>0.000</td>\n",
       "      <td>0.000</td>\n",
       "    </tr>\n",
       "    <tr>\n",
       "      <th>Breakfast is best served with eggs.</th>\n",
       "      <td>0.577</td>\n",
       "      <td>0.577</td>\n",
       "      <td>0.000</td>\n",
       "      <td>0.000</td>\n",
       "      <td>0.0</td>\n",
       "      <td>0.000</td>\n",
       "      <td>0.000</td>\n",
       "      <td>0.577</td>\n",
       "      <td>0.000</td>\n",
       "    </tr>\n",
       "    <tr>\n",
       "      <th>I do not want eggs for lunch, eggs are for breakfast</th>\n",
       "      <td>0.000</td>\n",
       "      <td>0.000</td>\n",
       "      <td>0.414</td>\n",
       "      <td>0.525</td>\n",
       "      <td>0.0</td>\n",
       "      <td>0.525</td>\n",
       "      <td>0.000</td>\n",
       "      <td>0.000</td>\n",
       "      <td>0.525</td>\n",
       "    </tr>\n",
       "    <tr>\n",
       "      <th>Lunch is after breakfast</th>\n",
       "      <td>0.000</td>\n",
       "      <td>0.000</td>\n",
       "      <td>0.000</td>\n",
       "      <td>0.000</td>\n",
       "      <td>1.0</td>\n",
       "      <td>0.000</td>\n",
       "      <td>0.000</td>\n",
       "      <td>0.000</td>\n",
       "      <td>0.000</td>\n",
       "    </tr>\n",
       "  </tbody>\n",
       "</table>\n",
       "</div>"
      ],
      "text/plain": [
       "                                                    best served  \\\n",
       "Sasha had eggs for breakfast.                             0.000   \n",
       "Breakfast is best served with eggs.                       0.577   \n",
       "I do not want eggs for lunch, eggs are for brea...        0.000   \n",
       "Lunch is after breakfast                                  0.000   \n",
       "\n",
       "                                                    breakfast best  \\\n",
       "Sasha had eggs for breakfast.                                0.000   \n",
       "Breakfast is best served with eggs.                          0.577   \n",
       "I do not want eggs for lunch, eggs are for brea...           0.000   \n",
       "Lunch is after breakfast                                     0.000   \n",
       "\n",
       "                                                    eggs breakfast  \\\n",
       "Sasha had eggs for breakfast.                                0.619   \n",
       "Breakfast is best served with eggs.                          0.000   \n",
       "I do not want eggs for lunch, eggs are for brea...           0.414   \n",
       "Lunch is after breakfast                                     0.000   \n",
       "\n",
       "                                                    eggs lunch  \\\n",
       "Sasha had eggs for breakfast.                            0.000   \n",
       "Breakfast is best served with eggs.                      0.000   \n",
       "I do not want eggs for lunch, eggs are for brea...       0.525   \n",
       "Lunch is after breakfast                                 0.000   \n",
       "\n",
       "                                                    lunch breakfast  \\\n",
       "Sasha had eggs for breakfast.                                   0.0   \n",
       "Breakfast is best served with eggs.                             0.0   \n",
       "I do not want eggs for lunch, eggs are for brea...              0.0   \n",
       "Lunch is after breakfast                                        1.0   \n",
       "\n",
       "                                                    lunch eggs  sasha eggs  \\\n",
       "Sasha had eggs for breakfast.                            0.000       0.785   \n",
       "Breakfast is best served with eggs.                      0.000       0.000   \n",
       "I do not want eggs for lunch, eggs are for brea...       0.525       0.000   \n",
       "Lunch is after breakfast                                 0.000       0.000   \n",
       "\n",
       "                                                    served eggs  want eggs  \n",
       "Sasha had eggs for breakfast.                             0.000      0.000  \n",
       "Breakfast is best served with eggs.                       0.577      0.000  \n",
       "I do not want eggs for lunch, eggs are for brea...        0.000      0.525  \n",
       "Lunch is after breakfast                                  0.000      0.000  "
      ]
     },
     "execution_count": 16,
     "metadata": {},
     "output_type": "execute_result"
    }
   ],
   "source": [
    "vectorizer = TfidfVectorizer(ngram_range = (2, 2), stop_words = ENGLISH_STOP_WORDS)\n",
    "vectorizer.fit(texts)\n",
    "\n",
    "vocabulary = vectorizer.vocabulary_\n",
    "vocabulary = {k: v for k, v in sorted(vocabulary.items(), key = lambda item: item[1])} # sorting by value\n",
    "\n",
    "print(vocabulary)\n",
    "\n",
    "tfidf_vector = vectorizer.transform(texts)\n",
    "transformed_doc = tfidf_vector.toarray()\n",
    "transformed_doc_pretty = pd.DataFrame(transformed_doc, columns = vocabulary.keys(), index = texts)\n",
    "\n",
    "transformed_doc_pretty.round(3)"
   ]
  },
  {
   "cell_type": "code",
   "execution_count": null,
   "metadata": {},
   "outputs": [],
   "source": []
  },
  {
   "cell_type": "markdown",
   "metadata": {},
   "source": [
    "## Recommendations using TF-IDF vectors and cosine similarity scores\n",
    "\n",
    "<img src='https://blog.christianperone.com/wp-content/uploads/2013/09/cosinesimilarityfq1.png' width=700>"
   ]
  },
  {
   "cell_type": "markdown",
   "metadata": {},
   "source": [
    "We have 2 vectorized data tables\n",
    "1. CountVectorized\n",
    "2. TfidfVectorized\n",
    "\n",
    "On both dataframes, we can check how much a given datapoint is similar to the others. We'll run the simple cosine similarity function"
   ]
  },
  {
   "cell_type": "code",
   "execution_count": 17,
   "metadata": {},
   "outputs": [],
   "source": [
    "def plot_cosine_similarity_matrix(matrix, original_data, title = 'Similarities between documents using tf-idf vectors\\n'):\n",
    "    \n",
    "    plt.figure(figsize = (7.5, 2.5))\n",
    "    sns.heatmap(matrix, cmap = 'coolwarm', center = 0, annot = True, \n",
    "                xticklabels = original_data.index.tolist(),\n",
    "                yticklabels = original_data.index.tolist())\n",
    "    plt.xticks(rotation = 30, horizontalalignment = 'right', fontsize = 10)\n",
    "    plt.yticks(fontsize = 10)\n",
    "    plt.title(title)\n",
    "    plt.show()"
   ]
  },
  {
   "cell_type": "markdown",
   "metadata": {},
   "source": [
    "### 1. Simple counts vectors"
   ]
  },
  {
   "cell_type": "code",
   "execution_count": 18,
   "metadata": {},
   "outputs": [
    {
     "data": {
      "text/html": [
       "<div>\n",
       "<style scoped>\n",
       "    .dataframe tbody tr th:only-of-type {\n",
       "        vertical-align: middle;\n",
       "    }\n",
       "\n",
       "    .dataframe tbody tr th {\n",
       "        vertical-align: top;\n",
       "    }\n",
       "\n",
       "    .dataframe thead th {\n",
       "        text-align: right;\n",
       "    }\n",
       "</style>\n",
       "<table border=\"1\" class=\"dataframe\">\n",
       "  <thead>\n",
       "    <tr style=\"text-align: right;\">\n",
       "      <th></th>\n",
       "      <th>after</th>\n",
       "      <th>are</th>\n",
       "      <th>best</th>\n",
       "      <th>breakfast</th>\n",
       "      <th>do</th>\n",
       "      <th>eggs</th>\n",
       "      <th>for</th>\n",
       "      <th>had</th>\n",
       "      <th>is</th>\n",
       "      <th>lunch</th>\n",
       "      <th>not</th>\n",
       "      <th>sasha</th>\n",
       "      <th>served</th>\n",
       "      <th>want</th>\n",
       "      <th>with</th>\n",
       "    </tr>\n",
       "  </thead>\n",
       "  <tbody>\n",
       "    <tr>\n",
       "      <th>Sasha had eggs for breakfast.</th>\n",
       "      <td>0</td>\n",
       "      <td>0</td>\n",
       "      <td>0</td>\n",
       "      <td>1</td>\n",
       "      <td>0</td>\n",
       "      <td>1</td>\n",
       "      <td>1</td>\n",
       "      <td>1</td>\n",
       "      <td>0</td>\n",
       "      <td>0</td>\n",
       "      <td>0</td>\n",
       "      <td>1</td>\n",
       "      <td>0</td>\n",
       "      <td>0</td>\n",
       "      <td>0</td>\n",
       "    </tr>\n",
       "    <tr>\n",
       "      <th>Breakfast is best served with eggs.</th>\n",
       "      <td>0</td>\n",
       "      <td>0</td>\n",
       "      <td>1</td>\n",
       "      <td>1</td>\n",
       "      <td>0</td>\n",
       "      <td>1</td>\n",
       "      <td>0</td>\n",
       "      <td>0</td>\n",
       "      <td>1</td>\n",
       "      <td>0</td>\n",
       "      <td>0</td>\n",
       "      <td>0</td>\n",
       "      <td>1</td>\n",
       "      <td>0</td>\n",
       "      <td>1</td>\n",
       "    </tr>\n",
       "    <tr>\n",
       "      <th>I do not want eggs for lunch, eggs are for breakfast</th>\n",
       "      <td>0</td>\n",
       "      <td>1</td>\n",
       "      <td>0</td>\n",
       "      <td>1</td>\n",
       "      <td>1</td>\n",
       "      <td>2</td>\n",
       "      <td>2</td>\n",
       "      <td>0</td>\n",
       "      <td>0</td>\n",
       "      <td>1</td>\n",
       "      <td>1</td>\n",
       "      <td>0</td>\n",
       "      <td>0</td>\n",
       "      <td>1</td>\n",
       "      <td>0</td>\n",
       "    </tr>\n",
       "    <tr>\n",
       "      <th>Lunch is after breakfast</th>\n",
       "      <td>1</td>\n",
       "      <td>0</td>\n",
       "      <td>0</td>\n",
       "      <td>1</td>\n",
       "      <td>0</td>\n",
       "      <td>0</td>\n",
       "      <td>0</td>\n",
       "      <td>0</td>\n",
       "      <td>1</td>\n",
       "      <td>1</td>\n",
       "      <td>0</td>\n",
       "      <td>0</td>\n",
       "      <td>0</td>\n",
       "      <td>0</td>\n",
       "      <td>0</td>\n",
       "    </tr>\n",
       "  </tbody>\n",
       "</table>\n",
       "</div>"
      ],
      "text/plain": [
       "                                                    after  are  best  \\\n",
       "Sasha had eggs for breakfast.                           0    0     0   \n",
       "Breakfast is best served with eggs.                     0    0     1   \n",
       "I do not want eggs for lunch, eggs are for brea...      0    1     0   \n",
       "Lunch is after breakfast                                1    0     0   \n",
       "\n",
       "                                                    breakfast  do  eggs  for  \\\n",
       "Sasha had eggs for breakfast.                               1   0     1    1   \n",
       "Breakfast is best served with eggs.                         1   0     1    0   \n",
       "I do not want eggs for lunch, eggs are for brea...          1   1     2    2   \n",
       "Lunch is after breakfast                                    1   0     0    0   \n",
       "\n",
       "                                                    had  is  lunch  not  \\\n",
       "Sasha had eggs for breakfast.                         1   0      0    0   \n",
       "Breakfast is best served with eggs.                   0   1      0    0   \n",
       "I do not want eggs for lunch, eggs are for brea...    0   0      1    1   \n",
       "Lunch is after breakfast                              0   1      1    0   \n",
       "\n",
       "                                                    sasha  served  want  with  \n",
       "Sasha had eggs for breakfast.                           1       0     0     0  \n",
       "Breakfast is best served with eggs.                     0       1     0     1  \n",
       "I do not want eggs for lunch, eggs are for brea...      0       0     1     0  \n",
       "Lunch is after breakfast                                0       0     0     0  "
      ]
     },
     "execution_count": 18,
     "metadata": {},
     "output_type": "execute_result"
    }
   ],
   "source": [
    "transformed_doc_count_pretty"
   ]
  },
  {
   "cell_type": "code",
   "execution_count": 19,
   "metadata": {},
   "outputs": [
    {
     "name": "stdout",
     "output_type": "stream",
     "text": [
      "[[1.         0.36514837 0.5976143  0.2236068 ]\n",
      " [0.36514837 1.         0.32732684 0.40824829]\n",
      " [0.5976143  0.32732684 1.         0.26726124]\n",
      " [0.2236068  0.40824829 0.26726124 1.        ]]\n"
     ]
    }
   ],
   "source": [
    "similarity_matrix_count = cosine_similarity(transformed_doc_count_pretty)\n",
    "    \n",
    "print(similarity_matrix_count)"
   ]
  },
  {
   "cell_type": "code",
   "execution_count": 20,
   "metadata": {},
   "outputs": [
    {
     "data": {
      "image/png": "[encoded data removed]",
      "text/plain": [
       "<Figure size 540x180 with 2 Axes>"
      ]
     },
     "metadata": {
      "needs_background": "light"
     },
     "output_type": "display_data"
    }
   ],
   "source": [
    "plot_cosine_similarity_matrix(similarity_matrix_count, transformed_doc_count_pretty, title = 'Similarities between documents using count vectors\\n')"
   ]
  },
  {
   "cell_type": "code",
   "execution_count": null,
   "metadata": {},
   "outputs": [],
   "source": []
  },
  {
   "cell_type": "markdown",
   "metadata": {},
   "source": [
    "### 2. TF-IDF vectors"
   ]
  },
  {
   "cell_type": "code",
   "execution_count": 21,
   "metadata": {},
   "outputs": [
    {
     "data": {
      "text/html": [
       "<div>\n",
       "<style scoped>\n",
       "    .dataframe tbody tr th:only-of-type {\n",
       "        vertical-align: middle;\n",
       "    }\n",
       "\n",
       "    .dataframe tbody tr th {\n",
       "        vertical-align: top;\n",
       "    }\n",
       "\n",
       "    .dataframe thead th {\n",
       "        text-align: right;\n",
       "    }\n",
       "</style>\n",
       "<table border=\"1\" class=\"dataframe\">\n",
       "  <thead>\n",
       "    <tr style=\"text-align: right;\">\n",
       "      <th></th>\n",
       "      <th>after</th>\n",
       "      <th>are</th>\n",
       "      <th>best</th>\n",
       "      <th>breakfast</th>\n",
       "      <th>do</th>\n",
       "      <th>eggs</th>\n",
       "      <th>for</th>\n",
       "      <th>had</th>\n",
       "      <th>is</th>\n",
       "      <th>lunch</th>\n",
       "      <th>not</th>\n",
       "      <th>sasha</th>\n",
       "      <th>served</th>\n",
       "      <th>want</th>\n",
       "      <th>with</th>\n",
       "    </tr>\n",
       "  </thead>\n",
       "  <tbody>\n",
       "    <tr>\n",
       "      <th>Sasha had eggs for breakfast.</th>\n",
       "      <td>0.000</td>\n",
       "      <td>0.000</td>\n",
       "      <td>0.000</td>\n",
       "      <td>0.287</td>\n",
       "      <td>0.000</td>\n",
       "      <td>0.351</td>\n",
       "      <td>0.434</td>\n",
       "      <td>0.55</td>\n",
       "      <td>0.000</td>\n",
       "      <td>0.000</td>\n",
       "      <td>0.000</td>\n",
       "      <td>0.55</td>\n",
       "      <td>0.000</td>\n",
       "      <td>0.000</td>\n",
       "      <td>0.000</td>\n",
       "    </tr>\n",
       "    <tr>\n",
       "      <th>Breakfast is best served with eggs.</th>\n",
       "      <td>0.000</td>\n",
       "      <td>0.000</td>\n",
       "      <td>0.482</td>\n",
       "      <td>0.252</td>\n",
       "      <td>0.000</td>\n",
       "      <td>0.308</td>\n",
       "      <td>0.000</td>\n",
       "      <td>0.00</td>\n",
       "      <td>0.380</td>\n",
       "      <td>0.000</td>\n",
       "      <td>0.000</td>\n",
       "      <td>0.00</td>\n",
       "      <td>0.482</td>\n",
       "      <td>0.000</td>\n",
       "      <td>0.482</td>\n",
       "    </tr>\n",
       "    <tr>\n",
       "      <th>I do not want eggs for lunch, eggs are for breakfast</th>\n",
       "      <td>0.000</td>\n",
       "      <td>0.333</td>\n",
       "      <td>0.000</td>\n",
       "      <td>0.174</td>\n",
       "      <td>0.333</td>\n",
       "      <td>0.425</td>\n",
       "      <td>0.525</td>\n",
       "      <td>0.00</td>\n",
       "      <td>0.000</td>\n",
       "      <td>0.263</td>\n",
       "      <td>0.333</td>\n",
       "      <td>0.00</td>\n",
       "      <td>0.000</td>\n",
       "      <td>0.333</td>\n",
       "      <td>0.000</td>\n",
       "    </tr>\n",
       "    <tr>\n",
       "      <th>Lunch is after breakfast</th>\n",
       "      <td>0.631</td>\n",
       "      <td>0.000</td>\n",
       "      <td>0.000</td>\n",
       "      <td>0.329</td>\n",
       "      <td>0.000</td>\n",
       "      <td>0.000</td>\n",
       "      <td>0.000</td>\n",
       "      <td>0.00</td>\n",
       "      <td>0.497</td>\n",
       "      <td>0.497</td>\n",
       "      <td>0.000</td>\n",
       "      <td>0.00</td>\n",
       "      <td>0.000</td>\n",
       "      <td>0.000</td>\n",
       "      <td>0.000</td>\n",
       "    </tr>\n",
       "  </tbody>\n",
       "</table>\n",
       "</div>"
      ],
      "text/plain": [
       "                                                    after    are   best  \\\n",
       "Sasha had eggs for breakfast.                       0.000  0.000  0.000   \n",
       "Breakfast is best served with eggs.                 0.000  0.000  0.482   \n",
       "I do not want eggs for lunch, eggs are for brea...  0.000  0.333  0.000   \n",
       "Lunch is after breakfast                            0.631  0.000  0.000   \n",
       "\n",
       "                                                    breakfast     do   eggs  \\\n",
       "Sasha had eggs for breakfast.                           0.287  0.000  0.351   \n",
       "Breakfast is best served with eggs.                     0.252  0.000  0.308   \n",
       "I do not want eggs for lunch, eggs are for brea...      0.174  0.333  0.425   \n",
       "Lunch is after breakfast                                0.329  0.000  0.000   \n",
       "\n",
       "                                                      for   had     is  lunch  \\\n",
       "Sasha had eggs for breakfast.                       0.434  0.55  0.000  0.000   \n",
       "Breakfast is best served with eggs.                 0.000  0.00  0.380  0.000   \n",
       "I do not want eggs for lunch, eggs are for brea...  0.525  0.00  0.000  0.263   \n",
       "Lunch is after breakfast                            0.000  0.00  0.497  0.497   \n",
       "\n",
       "                                                      not  sasha  served  \\\n",
       "Sasha had eggs for breakfast.                       0.000   0.55   0.000   \n",
       "Breakfast is best served with eggs.                 0.000   0.00   0.482   \n",
       "I do not want eggs for lunch, eggs are for brea...  0.333   0.00   0.000   \n",
       "Lunch is after breakfast                            0.000   0.00   0.000   \n",
       "\n",
       "                                                     want   with  \n",
       "Sasha had eggs for breakfast.                       0.000  0.000  \n",
       "Breakfast is best served with eggs.                 0.000  0.482  \n",
       "I do not want eggs for lunch, eggs are for brea...  0.333  0.000  \n",
       "Lunch is after breakfast                            0.000  0.000  "
      ]
     },
     "execution_count": 21,
     "metadata": {},
     "output_type": "execute_result"
    }
   ],
   "source": [
    "transformed_doc_tfidf_pretty.round(3)"
   ]
  },
  {
   "cell_type": "code",
   "execution_count": 22,
   "metadata": {},
   "outputs": [
    {
     "name": "stdout",
     "output_type": "stream",
     "text": [
      "[[1.         0.18038103 0.4272794  0.0944976 ]\n",
      " [0.18038103 1.         0.17463194 0.27175712]\n",
      " [0.4272794  0.17463194 1.         0.1877679 ]\n",
      " [0.0944976  0.27175712 0.1877679  1.        ]]\n"
     ]
    }
   ],
   "source": [
    "similarity_matrix_tfidf = cosine_similarity(transformed_doc_tfidf_pretty)\n",
    "    \n",
    "print(similarity_matrix_tfidf)"
   ]
  },
  {
   "cell_type": "code",
   "execution_count": 23,
   "metadata": {},
   "outputs": [
    {
     "data": {
      "image/png": "[encoded data removed]",
      "text/plain": [
       "<Figure size 540x180 with 2 Axes>"
      ]
     },
     "metadata": {
      "needs_background": "light"
     },
     "output_type": "display_data"
    }
   ],
   "source": [
    "plot_cosine_similarity_matrix(similarity_matrix_tfidf, transformed_doc_tfidf_pretty, title = 'Similarities between documents using tf-idf vectors\\n')"
   ]
  },
  {
   "cell_type": "code",
   "execution_count": null,
   "metadata": {},
   "outputs": [],
   "source": []
  },
  {
   "cell_type": "markdown",
   "metadata": {},
   "source": [
    "### 3. Determine new text's similarity to corpus documents"
   ]
  },
  {
   "cell_type": "code",
   "execution_count": 32,
   "metadata": {},
   "outputs": [],
   "source": [
    "def calculate_similarity_for_new_text(new_text, original_documents, vectorizer_object, transformed_original_documents_pretty):\n",
    "    vectorized_text = vectorizer_object.transform([new_text]).toarray()\n",
    "    similarity_matrix = cosine_similarity(transformed_original_documents_pretty, vectorized_text)\n",
    "    return pd.DataFrame(similarity_matrix, index = original_documents, columns = ['cosine_similarity']).sort_values('cosine_similarity', ascending = False)"
   ]
  },
  {
   "cell_type": "code",
   "execution_count": 33,
   "metadata": {},
   "outputs": [],
   "source": [
    "# TFIDF\n",
    "\n",
    "tfidfvectorizer = TfidfVectorizer()\n",
    "tfidfvectorizer.fit(texts)\n",
    "\n",
    "vocabulary = tfidfvectorizer.vocabulary_\n",
    "vocabulary = {k: v for k, v in sorted(vocabulary.items(), key = lambda item: item[1])} \n",
    "\n",
    "tfidf_vector = tfidfvectorizer.transform(texts)\n",
    "transformed_doc_tfidf = tfidf_vector.toarray()\n",
    "transformed_doc_tfidf_pretty = pd.DataFrame(transformed_doc_tfidf, columns = vocabulary.keys(), index = texts)\n",
    "\n",
    "# COUNT\n",
    "\n",
    "countvectorizer = CountVectorizer()\n",
    "countvectorizer.fit(texts)\n",
    "\n",
    "vocabulary = countvectorizer.vocabulary_\n",
    "vocabulary = {k: v for k, v in sorted(vocabulary.items(), key = lambda item: item[1])} \n",
    "\n",
    "count_vector = countvectorizer.transform(texts)\n",
    "transformed_doc_count = count_vector.toarray()\n",
    "transformed_doc_count_pretty = pd.DataFrame(transformed_doc_count, columns = vocabulary.keys(), index = texts)"
   ]
  },
  {
   "cell_type": "markdown",
   "metadata": {},
   "source": [
    "#### Calculate similarity scores with both vectorizers"
   ]
  },
  {
   "cell_type": "code",
   "execution_count": 34,
   "metadata": {},
   "outputs": [],
   "source": [
    "new_text = 'Dinner is after lunch'"
   ]
  },
  {
   "cell_type": "code",
   "execution_count": 35,
   "metadata": {},
   "outputs": [
    {
     "name": "stdout",
     "output_type": "stream",
     "text": [
      "TF-IDF\n"
     ]
    },
    {
     "data": {
      "text/html": [
       "<div>\n",
       "<style scoped>\n",
       "    .dataframe tbody tr th:only-of-type {\n",
       "        vertical-align: middle;\n",
       "    }\n",
       "\n",
       "    .dataframe tbody tr th {\n",
       "        vertical-align: top;\n",
       "    }\n",
       "\n",
       "    .dataframe thead th {\n",
       "        text-align: right;\n",
       "    }\n",
       "</style>\n",
       "<table border=\"1\" class=\"dataframe\">\n",
       "  <thead>\n",
       "    <tr style=\"text-align: right;\">\n",
       "      <th></th>\n",
       "      <th>cosine_similarity</th>\n",
       "    </tr>\n",
       "  </thead>\n",
       "  <tbody>\n",
       "    <tr>\n",
       "      <th>Lunch is after breakfast</th>\n",
       "      <td>0.944322</td>\n",
       "    </tr>\n",
       "    <tr>\n",
       "      <th>Breakfast is best served with eggs.</th>\n",
       "      <td>0.200112</td>\n",
       "    </tr>\n",
       "    <tr>\n",
       "      <th>I do not want eggs for lunch, eggs are for breakfast</th>\n",
       "      <td>0.138265</td>\n",
       "    </tr>\n",
       "    <tr>\n",
       "      <th>Sasha had eggs for breakfast.</th>\n",
       "      <td>0.000000</td>\n",
       "    </tr>\n",
       "  </tbody>\n",
       "</table>\n",
       "</div>"
      ],
      "text/plain": [
       "                                                    cosine_similarity\n",
       "Lunch is after breakfast                                     0.944322\n",
       "Breakfast is best served with eggs.                          0.200112\n",
       "I do not want eggs for lunch, eggs are for brea...           0.138265\n",
       "Sasha had eggs for breakfast.                                0.000000"
      ]
     },
     "execution_count": 35,
     "metadata": {},
     "output_type": "execute_result"
    }
   ],
   "source": [
    "print('TF-IDF')\n",
    "calculate_similarity_for_new_text(new_text, texts, tfidfvectorizer, transformed_doc_tfidf_pretty)"
   ]
  },
  {
   "cell_type": "code",
   "execution_count": 36,
   "metadata": {},
   "outputs": [
    {
     "name": "stdout",
     "output_type": "stream",
     "text": [
      "CountVectors\n"
     ]
    },
    {
     "data": {
      "text/html": [
       "<div>\n",
       "<style scoped>\n",
       "    .dataframe tbody tr th:only-of-type {\n",
       "        vertical-align: middle;\n",
       "    }\n",
       "\n",
       "    .dataframe tbody tr th {\n",
       "        vertical-align: top;\n",
       "    }\n",
       "\n",
       "    .dataframe thead th {\n",
       "        text-align: right;\n",
       "    }\n",
       "</style>\n",
       "<table border=\"1\" class=\"dataframe\">\n",
       "  <thead>\n",
       "    <tr style=\"text-align: right;\">\n",
       "      <th></th>\n",
       "      <th>cosine_similarity</th>\n",
       "    </tr>\n",
       "  </thead>\n",
       "  <tbody>\n",
       "    <tr>\n",
       "      <th>Lunch is after breakfast</th>\n",
       "      <td>0.866025</td>\n",
       "    </tr>\n",
       "    <tr>\n",
       "      <th>Breakfast is best served with eggs.</th>\n",
       "      <td>0.235702</td>\n",
       "    </tr>\n",
       "    <tr>\n",
       "      <th>I do not want eggs for lunch, eggs are for breakfast</th>\n",
       "      <td>0.154303</td>\n",
       "    </tr>\n",
       "    <tr>\n",
       "      <th>Sasha had eggs for breakfast.</th>\n",
       "      <td>0.000000</td>\n",
       "    </tr>\n",
       "  </tbody>\n",
       "</table>\n",
       "</div>"
      ],
      "text/plain": [
       "                                                    cosine_similarity\n",
       "Lunch is after breakfast                                     0.866025\n",
       "Breakfast is best served with eggs.                          0.235702\n",
       "I do not want eggs for lunch, eggs are for brea...           0.154303\n",
       "Sasha had eggs for breakfast.                                0.000000"
      ]
     },
     "execution_count": 36,
     "metadata": {},
     "output_type": "execute_result"
    }
   ],
   "source": [
    "print('CountVectors')\n",
    "calculate_similarity_for_new_text(new_text, texts, countvectorizer, transformed_doc_count_pretty)"
   ]
  },
  {
   "cell_type": "code",
   "execution_count": null,
   "metadata": {},
   "outputs": [],
   "source": []
  },
  {
   "cell_type": "code",
   "execution_count": null,
   "metadata": {},
   "outputs": [],
   "source": []
  },
  {
   "cell_type": "markdown",
   "metadata": {},
   "source": [
    "### 4. Finally, apply the TfidfVectorizer and cosine similarity scores to recommend movies based on plots"
   ]
  },
  {
   "cell_type": "code",
   "execution_count": 37,
   "metadata": {},
   "outputs": [
    {
     "data": {
      "text/html": [
       "<div>\n",
       "<style scoped>\n",
       "    .dataframe tbody tr th:only-of-type {\n",
       "        vertical-align: middle;\n",
       "    }\n",
       "\n",
       "    .dataframe tbody tr th {\n",
       "        vertical-align: top;\n",
       "    }\n",
       "\n",
       "    .dataframe thead th {\n",
       "        text-align: right;\n",
       "    }\n",
       "</style>\n",
       "<table border=\"1\" class=\"dataframe\">\n",
       "  <thead>\n",
       "    <tr style=\"text-align: right;\">\n",
       "      <th></th>\n",
       "      <th>Release Year</th>\n",
       "      <th>Title</th>\n",
       "      <th>Origin/Ethnicity</th>\n",
       "      <th>Director</th>\n",
       "      <th>Cast</th>\n",
       "      <th>Genre</th>\n",
       "      <th>Plot</th>\n",
       "    </tr>\n",
       "  </thead>\n",
       "  <tbody>\n",
       "    <tr>\n",
       "      <th>0</th>\n",
       "      <td>1901</td>\n",
       "      <td>Kansas Saloon Smashers</td>\n",
       "      <td>American</td>\n",
       "      <td>Unknown</td>\n",
       "      <td>NaN</td>\n",
       "      <td>unknown</td>\n",
       "      <td>A bartender is working at a saloon, serving dr...</td>\n",
       "    </tr>\n",
       "    <tr>\n",
       "      <th>1</th>\n",
       "      <td>1901</td>\n",
       "      <td>Love by the Light of the Moon</td>\n",
       "      <td>American</td>\n",
       "      <td>Unknown</td>\n",
       "      <td>NaN</td>\n",
       "      <td>unknown</td>\n",
       "      <td>The moon, painted with a smiling face hangs ov...</td>\n",
       "    </tr>\n",
       "    <tr>\n",
       "      <th>2</th>\n",
       "      <td>1901</td>\n",
       "      <td>The Martyred Presidents</td>\n",
       "      <td>American</td>\n",
       "      <td>Unknown</td>\n",
       "      <td>NaN</td>\n",
       "      <td>unknown</td>\n",
       "      <td>The film, just over a minute long, is composed...</td>\n",
       "    </tr>\n",
       "    <tr>\n",
       "      <th>3</th>\n",
       "      <td>1901</td>\n",
       "      <td>Terrible Teddy, the Grizzly King</td>\n",
       "      <td>American</td>\n",
       "      <td>Unknown</td>\n",
       "      <td>NaN</td>\n",
       "      <td>unknown</td>\n",
       "      <td>Lasting just 61 seconds and consisting of two ...</td>\n",
       "    </tr>\n",
       "    <tr>\n",
       "      <th>4</th>\n",
       "      <td>1902</td>\n",
       "      <td>Jack and the Beanstalk</td>\n",
       "      <td>American</td>\n",
       "      <td>George S. Fleming, Edwin S. Porter</td>\n",
       "      <td>NaN</td>\n",
       "      <td>unknown</td>\n",
       "      <td>The earliest known adaptation of the classic f...</td>\n",
       "    </tr>\n",
       "  </tbody>\n",
       "</table>\n",
       "</div>"
      ],
      "text/plain": [
       "   Release Year                             Title Origin/Ethnicity  \\\n",
       "0          1901            Kansas Saloon Smashers         American   \n",
       "1          1901     Love by the Light of the Moon         American   \n",
       "2          1901           The Martyred Presidents         American   \n",
       "3          1901  Terrible Teddy, the Grizzly King         American   \n",
       "4          1902            Jack and the Beanstalk         American   \n",
       "\n",
       "                             Director Cast    Genre  \\\n",
       "0                             Unknown  NaN  unknown   \n",
       "1                             Unknown  NaN  unknown   \n",
       "2                             Unknown  NaN  unknown   \n",
       "3                             Unknown  NaN  unknown   \n",
       "4  George S. Fleming, Edwin S. Porter  NaN  unknown   \n",
       "\n",
       "                                                Plot  \n",
       "0  A bartender is working at a saloon, serving dr...  \n",
       "1  The moon, painted with a smiling face hangs ov...  \n",
       "2  The film, just over a minute long, is composed...  \n",
       "3  Lasting just 61 seconds and consisting of two ...  \n",
       "4  The earliest known adaptation of the classic f...  "
      ]
     },
     "execution_count": 37,
     "metadata": {},
     "output_type": "execute_result"
    }
   ],
   "source": [
    "data = pd.read_csv('data/wiki_movie_plots_deduped.csv')\n",
    "data.drop('Wiki Page', 1, inplace = True)\n",
    "data.head()"
   ]
  },
  {
   "cell_type": "code",
   "execution_count": 38,
   "metadata": {
    "scrolled": true
   },
   "outputs": [
    {
     "data": {
      "image/png": "[encoded data removed]",
      "text/plain": [
       "<Figure size 576x288 with 1 Axes>"
      ]
     },
     "metadata": {
      "needs_background": "light"
     },
     "output_type": "display_data"
    }
   ],
   "source": [
    "plt.figure(figsize = (8, 4))\n",
    "sns.distplot(data['Release Year'], kde = False)\n",
    "plt.show()"
   ]
  },
  {
   "cell_type": "markdown",
   "metadata": {},
   "source": [
    "Will limit release years to 1980 - 2015, the country origins to USA, Britain, Australia and Canada"
   ]
  },
  {
   "cell_type": "code",
   "execution_count": 39,
   "metadata": {},
   "outputs": [
    {
     "name": "stdout",
     "output_type": "stream",
     "text": [
      "Original movie count: 34886\n",
      "Filtered movie count: 9692\n"
     ]
    }
   ],
   "source": [
    "print('Original movie count:', data.shape[0])\n",
    "\n",
    "data = data[(data['Release Year'] >= 1980) & (data['Release Year'] <= 2015)]\n",
    "data = data[data['Origin/Ethnicity'].isin(['American', 'British', 'Canadian', 'Australian'])]\n",
    "\n",
    "print('Filtered movie count:', data.shape[0])"
   ]
  },
  {
   "cell_type": "markdown",
   "metadata": {},
   "source": [
    "I also won't take into account the title, the release year, the genre, the origin, the directors and the cast when calculating similarity"
   ]
  },
  {
   "cell_type": "code",
   "execution_count": 40,
   "metadata": {},
   "outputs": [],
   "source": [
    "data.reset_index(drop = True, inplace = True)"
   ]
  },
  {
   "cell_type": "code",
   "execution_count": 41,
   "metadata": {
    "scrolled": true
   },
   "outputs": [
    {
     "data": {
      "text/html": [
       "<div>\n",
       "<style scoped>\n",
       "    .dataframe tbody tr th:only-of-type {\n",
       "        vertical-align: middle;\n",
       "    }\n",
       "\n",
       "    .dataframe tbody tr th {\n",
       "        vertical-align: top;\n",
       "    }\n",
       "\n",
       "    .dataframe thead th {\n",
       "        text-align: right;\n",
       "    }\n",
       "</style>\n",
       "<table border=\"1\" class=\"dataframe\">\n",
       "  <thead>\n",
       "    <tr style=\"text-align: right;\">\n",
       "      <th></th>\n",
       "      <th>Plot</th>\n",
       "    </tr>\n",
       "    <tr>\n",
       "      <th>Title</th>\n",
       "      <th></th>\n",
       "    </tr>\n",
       "  </thead>\n",
       "  <tbody>\n",
       "    <tr>\n",
       "      <th>Airplane!</th>\n",
       "      <td>As a parody film, Airplane! tells its story in...</td>\n",
       "    </tr>\n",
       "    <tr>\n",
       "      <th>Alien Dead</th>\n",
       "      <td>A meteor strikes a houseboat in the swamps nea...</td>\n",
       "    </tr>\n",
       "    <tr>\n",
       "      <th>Alligator</th>\n",
       "      <td>A teenage girl purchases a baby American allig...</td>\n",
       "    </tr>\n",
       "    <tr>\n",
       "      <th>Altered States</th>\n",
       "      <td>Edward Jessup is an abnormal psychologist who,...</td>\n",
       "    </tr>\n",
       "    <tr>\n",
       "      <th>American Gigolo</th>\n",
       "      <td>Julian Kaye is a male escort in Los Angeles, w...</td>\n",
       "    </tr>\n",
       "  </tbody>\n",
       "</table>\n",
       "</div>"
      ],
      "text/plain": [
       "                                                              Plot\n",
       "Title                                                             \n",
       "Airplane!        As a parody film, Airplane! tells its story in...\n",
       "Alien Dead       A meteor strikes a houseboat in the swamps nea...\n",
       "Alligator        A teenage girl purchases a baby American allig...\n",
       "Altered States   Edward Jessup is an abnormal psychologist who,...\n",
       "American Gigolo  Julian Kaye is a male escort in Los Angeles, w..."
      ]
     },
     "execution_count": 41,
     "metadata": {},
     "output_type": "execute_result"
    }
   ],
   "source": [
    "final_data = data[['Title', 'Plot']]\n",
    "final_data.set_index('Title', inplace = True)\n",
    "final_data.head()"
   ]
  },
  {
   "cell_type": "markdown",
   "metadata": {},
   "source": [
    "#### Applying some cleaning on plots"
   ]
  },
  {
   "cell_type": "code",
   "execution_count": 48,
   "metadata": {},
   "outputs": [],
   "source": [
    "import re\n",
    "from nltk.corpus import stopwords\n",
    "from nltk import pos_tag, word_tokenize\n",
    "from nltk.corpus import wordnet\n",
    "from nltk.stem import WordNetLemmatizer"
   ]
  },
  {
   "cell_type": "code",
   "execution_count": 53,
   "metadata": {},
   "outputs": [],
   "source": [
    "def process_text(text):    \n",
    "    text = text.lower()\n",
    "    \n",
    "    # remove stopwords\n",
    "    text = ' '.join([word for word in text.split() if word not in (stopwords.words('english'))])\n",
    "\n",
    "    # clean text\n",
    "    text = re.sub(r'\\([^)]*\\)', ' ', text) # between parentheses\n",
    "    text = re.compile('[^a-z]').sub(' ', text) # nonletters\n",
    "    text = re.compile('\\s+').sub(' ', text) # whitespaces\n",
    "    text = text.strip() # trailing whitespaces\n",
    "    \n",
    "    return text\n",
    "\n",
    "def nltk_tag_to_wordnet_tag(nltk_tag):\n",
    "    if nltk_tag.startswith('J'):\n",
    "        return wordnet.ADJ\n",
    "    elif nltk_tag.startswith('V'):\n",
    "        return wordnet.VERB\n",
    "    elif nltk_tag.startswith('N'):\n",
    "        return wordnet.NOUN\n",
    "    elif nltk_tag.startswith('R'):\n",
    "        return wordnet.ADV\n",
    "    else:          \n",
    "        return None\n",
    "\n",
    "def lemmatize_sentence(sentence):\n",
    "    \n",
    "    nltk_tagged = pos_tag(word_tokenize(sentence))  \n",
    "    wordnet_tagged = map(lambda x: (x[0], nltk_tag_to_wordnet_tag(x[1])), nltk_tagged)\n",
    "    \n",
    "    lemmatized_sentence = []\n",
    "    \n",
    "    for word, tag in wordnet_tagged:\n",
    "        if tag is None:\n",
    "            lemmatized_sentence.append(word)\n",
    "        else:        \n",
    "            lemmatized_sentence.append(lemmatizer.lemmatize(word, tag))\n",
    "            \n",
    "    return \" \".join(lemmatized_sentence)"
   ]
  },
  {
   "cell_type": "markdown",
   "metadata": {},
   "source": [
    "Cleaning of spec characters, numbers, stopwords"
   ]
  },
  {
   "cell_type": "code",
   "execution_count": 45,
   "metadata": {},
   "outputs": [],
   "source": [
    "final_data['plot_processed'] = final_data['Plot'].apply(lambda x: process_text(x))"
   ]
  },
  {
   "cell_type": "markdown",
   "metadata": {},
   "source": [
    "Lemmatization"
   ]
  },
  {
   "cell_type": "code",
   "execution_count": 54,
   "metadata": {},
   "outputs": [],
   "source": [
    "lemmatizer = WordNetLemmatizer()"
   ]
  },
  {
   "cell_type": "code",
   "execution_count": 55,
   "metadata": {},
   "outputs": [],
   "source": [
    "final_data['plot_processed_lemmatized'] = final_data['plot_processed'].apply(lambda x: lemmatize_sentence(x))"
   ]
  },
  {
   "cell_type": "markdown",
   "metadata": {},
   "source": [
    "Final plot descriptions before similarity calculations"
   ]
  },
  {
   "cell_type": "code",
   "execution_count": 56,
   "metadata": {},
   "outputs": [
    {
     "data": {
      "text/html": [
       "<div>\n",
       "<style scoped>\n",
       "    .dataframe tbody tr th:only-of-type {\n",
       "        vertical-align: middle;\n",
       "    }\n",
       "\n",
       "    .dataframe tbody tr th {\n",
       "        vertical-align: top;\n",
       "    }\n",
       "\n",
       "    .dataframe thead th {\n",
       "        text-align: right;\n",
       "    }\n",
       "</style>\n",
       "<table border=\"1\" class=\"dataframe\">\n",
       "  <thead>\n",
       "    <tr style=\"text-align: right;\">\n",
       "      <th></th>\n",
       "      <th>Plot</th>\n",
       "      <th>plot_processed</th>\n",
       "      <th>plot_processed_lemmatized</th>\n",
       "    </tr>\n",
       "    <tr>\n",
       "      <th>Title</th>\n",
       "      <th></th>\n",
       "      <th></th>\n",
       "      <th></th>\n",
       "    </tr>\n",
       "  </thead>\n",
       "  <tbody>\n",
       "    <tr>\n",
       "      <th>Airplane!</th>\n",
       "      <td>As a parody film, Airplane! tells its story in...</td>\n",
       "      <td>parody film airplane tells story intermixed se...</td>\n",
       "      <td>parody film airplane tell story intermix sever...</td>\n",
       "    </tr>\n",
       "    <tr>\n",
       "      <th>Alien Dead</th>\n",
       "      <td>A meteor strikes a houseboat in the swamps nea...</td>\n",
       "      <td>meteor strikes houseboat swamps near southern ...</td>\n",
       "      <td>meteor strike houseboat swamp near southern to...</td>\n",
       "    </tr>\n",
       "    <tr>\n",
       "      <th>Alligator</th>\n",
       "      <td>A teenage girl purchases a baby American allig...</td>\n",
       "      <td>teenage girl purchases baby american alligator...</td>\n",
       "      <td>teenage girl purchase baby american alligator ...</td>\n",
       "    </tr>\n",
       "    <tr>\n",
       "      <th>Altered States</th>\n",
       "      <td>Edward Jessup is an abnormal psychologist who,...</td>\n",
       "      <td>edward jessup abnormal psychologist who studyi...</td>\n",
       "      <td>edward jessup abnormal psychologist who study ...</td>\n",
       "    </tr>\n",
       "    <tr>\n",
       "      <th>American Gigolo</th>\n",
       "      <td>Julian Kaye is a male escort in Los Angeles, w...</td>\n",
       "      <td>julian kaye male escort los angeles whose job ...</td>\n",
       "      <td>julian kaye male escort los angeles whose job ...</td>\n",
       "    </tr>\n",
       "  </tbody>\n",
       "</table>\n",
       "</div>"
      ],
      "text/plain": [
       "                                                              Plot  \\\n",
       "Title                                                                \n",
       "Airplane!        As a parody film, Airplane! tells its story in...   \n",
       "Alien Dead       A meteor strikes a houseboat in the swamps nea...   \n",
       "Alligator        A teenage girl purchases a baby American allig...   \n",
       "Altered States   Edward Jessup is an abnormal psychologist who,...   \n",
       "American Gigolo  Julian Kaye is a male escort in Los Angeles, w...   \n",
       "\n",
       "                                                    plot_processed  \\\n",
       "Title                                                                \n",
       "Airplane!        parody film airplane tells story intermixed se...   \n",
       "Alien Dead       meteor strikes houseboat swamps near southern ...   \n",
       "Alligator        teenage girl purchases baby american alligator...   \n",
       "Altered States   edward jessup abnormal psychologist who studyi...   \n",
       "American Gigolo  julian kaye male escort los angeles whose job ...   \n",
       "\n",
       "                                         plot_processed_lemmatized  \n",
       "Title                                                               \n",
       "Airplane!        parody film airplane tell story intermix sever...  \n",
       "Alien Dead       meteor strike houseboat swamp near southern to...  \n",
       "Alligator        teenage girl purchase baby american alligator ...  \n",
       "Altered States   edward jessup abnormal psychologist who study ...  \n",
       "American Gigolo  julian kaye male escort los angeles whose job ...  "
      ]
     },
     "execution_count": 56,
     "metadata": {},
     "output_type": "execute_result"
    }
   ],
   "source": [
    "final_data.head()"
   ]
  },
  {
   "cell_type": "code",
   "execution_count": null,
   "metadata": {},
   "outputs": [],
   "source": []
  },
  {
   "cell_type": "markdown",
   "metadata": {},
   "source": [
    "Save to csv"
   ]
  },
  {
   "cell_type": "code",
   "execution_count": 57,
   "metadata": {},
   "outputs": [],
   "source": [
    "final_data.to_csv('data/movie_plots_cleaned.csv')"
   ]
  },
  {
   "cell_type": "code",
   "execution_count": null,
   "metadata": {},
   "outputs": [],
   "source": []
  },
  {
   "cell_type": "markdown",
   "metadata": {},
   "source": [
    "#### Applying CountVectorizer on plots"
   ]
  },
  {
   "cell_type": "markdown",
   "metadata": {},
   "source": [
    "Showcasing on small subset"
   ]
  },
  {
   "cell_type": "code",
   "execution_count": 58,
   "metadata": {},
   "outputs": [],
   "source": [
    "vectorizer = CountVectorizer(min_df = 6)\n",
    "vectorized_plots = vectorizer.fit_transform(final_data['plot_processed_lemmatized'].iloc[1:10 + 1,])"
   ]
  },
  {
   "cell_type": "code",
   "execution_count": 59,
   "metadata": {
    "scrolled": true
   },
   "outputs": [
    {
     "name": "stdout",
     "output_type": "stream",
     "text": [
      "\n",
      "Unique tokens: 9 \n",
      "\n"
     ]
    },
    {
     "data": {
      "text/plain": [
       "{'become': 0,\n",
       " 'begin': 1,\n",
       " 'find': 2,\n",
       " 'go': 3,\n",
       " 'kill': 4,\n",
       " 'make': 5,\n",
       " 'one': 6,\n",
       " 'return': 7,\n",
       " 'take': 8}"
      ]
     },
     "execution_count": 59,
     "metadata": {},
     "output_type": "execute_result"
    }
   ],
   "source": [
    "vocabulary = vectorizer.vocabulary_\n",
    "vocabulary = {k: v for k, v in sorted(vocabulary.items(), key = lambda item: item[1])} \n",
    "print('\\nUnique tokens:', len(vocabulary), '\\n')\n",
    "vocabulary"
   ]
  },
  {
   "cell_type": "code",
   "execution_count": 60,
   "metadata": {},
   "outputs": [
    {
     "data": {
      "text/html": [
       "<div>\n",
       "<style scoped>\n",
       "    .dataframe tbody tr th:only-of-type {\n",
       "        vertical-align: middle;\n",
       "    }\n",
       "\n",
       "    .dataframe tbody tr th {\n",
       "        vertical-align: top;\n",
       "    }\n",
       "\n",
       "    .dataframe thead th {\n",
       "        text-align: right;\n",
       "    }\n",
       "</style>\n",
       "<table border=\"1\" class=\"dataframe\">\n",
       "  <thead>\n",
       "    <tr style=\"text-align: right;\">\n",
       "      <th></th>\n",
       "      <th>become</th>\n",
       "      <th>begin</th>\n",
       "      <th>find</th>\n",
       "      <th>go</th>\n",
       "      <th>kill</th>\n",
       "      <th>make</th>\n",
       "      <th>one</th>\n",
       "      <th>return</th>\n",
       "      <th>take</th>\n",
       "    </tr>\n",
       "    <tr>\n",
       "      <th>Title</th>\n",
       "      <th></th>\n",
       "      <th></th>\n",
       "      <th></th>\n",
       "      <th></th>\n",
       "      <th></th>\n",
       "      <th></th>\n",
       "      <th></th>\n",
       "      <th></th>\n",
       "      <th></th>\n",
       "    </tr>\n",
       "  </thead>\n",
       "  <tbody>\n",
       "    <tr>\n",
       "      <th>Alien Dead</th>\n",
       "      <td>1</td>\n",
       "      <td>1</td>\n",
       "      <td>0</td>\n",
       "      <td>0</td>\n",
       "      <td>1</td>\n",
       "      <td>0</td>\n",
       "      <td>0</td>\n",
       "      <td>0</td>\n",
       "      <td>0</td>\n",
       "    </tr>\n",
       "    <tr>\n",
       "      <th>Alligator</th>\n",
       "      <td>0</td>\n",
       "      <td>1</td>\n",
       "      <td>0</td>\n",
       "      <td>2</td>\n",
       "      <td>4</td>\n",
       "      <td>0</td>\n",
       "      <td>2</td>\n",
       "      <td>1</td>\n",
       "      <td>0</td>\n",
       "    </tr>\n",
       "    <tr>\n",
       "      <th>Altered States</th>\n",
       "      <td>1</td>\n",
       "      <td>3</td>\n",
       "      <td>2</td>\n",
       "      <td>1</td>\n",
       "      <td>0</td>\n",
       "      <td>1</td>\n",
       "      <td>3</td>\n",
       "      <td>5</td>\n",
       "      <td>1</td>\n",
       "    </tr>\n",
       "    <tr>\n",
       "      <th>American Gigolo</th>\n",
       "      <td>1</td>\n",
       "      <td>1</td>\n",
       "      <td>0</td>\n",
       "      <td>3</td>\n",
       "      <td>0</td>\n",
       "      <td>1</td>\n",
       "      <td>4</td>\n",
       "      <td>0</td>\n",
       "      <td>1</td>\n",
       "    </tr>\n",
       "    <tr>\n",
       "      <th>Animalympics</th>\n",
       "      <td>0</td>\n",
       "      <td>0</td>\n",
       "      <td>1</td>\n",
       "      <td>1</td>\n",
       "      <td>0</td>\n",
       "      <td>2</td>\n",
       "      <td>0</td>\n",
       "      <td>0</td>\n",
       "      <td>0</td>\n",
       "    </tr>\n",
       "    <tr>\n",
       "      <th>Antropophagus[citation needed]</th>\n",
       "      <td>2</td>\n",
       "      <td>0</td>\n",
       "      <td>5</td>\n",
       "      <td>8</td>\n",
       "      <td>1</td>\n",
       "      <td>0</td>\n",
       "      <td>1</td>\n",
       "      <td>1</td>\n",
       "      <td>0</td>\n",
       "    </tr>\n",
       "    <tr>\n",
       "      <th>Any Which Way You Can</th>\n",
       "      <td>0</td>\n",
       "      <td>0</td>\n",
       "      <td>0</td>\n",
       "      <td>0</td>\n",
       "      <td>1</td>\n",
       "      <td>3</td>\n",
       "      <td>1</td>\n",
       "      <td>1</td>\n",
       "      <td>1</td>\n",
       "    </tr>\n",
       "    <tr>\n",
       "      <th>Atlantic City</th>\n",
       "      <td>1</td>\n",
       "      <td>0</td>\n",
       "      <td>2</td>\n",
       "      <td>1</td>\n",
       "      <td>4</td>\n",
       "      <td>1</td>\n",
       "      <td>3</td>\n",
       "      <td>3</td>\n",
       "      <td>1</td>\n",
       "    </tr>\n",
       "    <tr>\n",
       "      <th>Death Watch</th>\n",
       "      <td>2</td>\n",
       "      <td>1</td>\n",
       "      <td>1</td>\n",
       "      <td>4</td>\n",
       "      <td>1</td>\n",
       "      <td>1</td>\n",
       "      <td>1</td>\n",
       "      <td>1</td>\n",
       "      <td>5</td>\n",
       "    </tr>\n",
       "    <tr>\n",
       "      <th>Delusion</th>\n",
       "      <td>0</td>\n",
       "      <td>1</td>\n",
       "      <td>4</td>\n",
       "      <td>0</td>\n",
       "      <td>1</td>\n",
       "      <td>1</td>\n",
       "      <td>1</td>\n",
       "      <td>3</td>\n",
       "      <td>2</td>\n",
       "    </tr>\n",
       "  </tbody>\n",
       "</table>\n",
       "</div>"
      ],
      "text/plain": [
       "                                become  begin  find  go  kill  make  one  \\\n",
       "Title                                                                      \n",
       "Alien Dead                           1      1     0   0     1     0    0   \n",
       "Alligator                            0      1     0   2     4     0    2   \n",
       "Altered States                       1      3     2   1     0     1    3   \n",
       "American Gigolo                      1      1     0   3     0     1    4   \n",
       "Animalympics                         0      0     1   1     0     2    0   \n",
       "Antropophagus[citation needed]       2      0     5   8     1     0    1   \n",
       "Any Which Way You Can                0      0     0   0     1     3    1   \n",
       "Atlantic City                        1      0     2   1     4     1    3   \n",
       "Death Watch                          2      1     1   4     1     1    1   \n",
       "Delusion                             0      1     4   0     1     1    1   \n",
       "\n",
       "                                return  take  \n",
       "Title                                         \n",
       "Alien Dead                           0     0  \n",
       "Alligator                            1     0  \n",
       "Altered States                       5     1  \n",
       "American Gigolo                      0     1  \n",
       "Animalympics                         0     0  \n",
       "Antropophagus[citation needed]       1     0  \n",
       "Any Which Way You Can                1     1  \n",
       "Atlantic City                        3     1  \n",
       "Death Watch                          1     5  \n",
       "Delusion                             3     2  "
      ]
     },
     "execution_count": 60,
     "metadata": {},
     "output_type": "execute_result"
    }
   ],
   "source": [
    "pd.DataFrame(vectorized_plots.toarray(), columns = vocabulary.keys(), index = final_data['plot_processed'].iloc[1:10 + 1,].index)"
   ]
  },
  {
   "cell_type": "code",
   "execution_count": null,
   "metadata": {},
   "outputs": [],
   "source": []
  },
  {
   "cell_type": "markdown",
   "metadata": {},
   "source": [
    "The real deal"
   ]
  },
  {
   "cell_type": "code",
   "execution_count": 85,
   "metadata": {},
   "outputs": [],
   "source": [
    "vectorizer = CountVectorizer(min_df = 25)\n",
    "vectorized_plots = vectorizer.fit_transform(final_data['plot_processed_lemmatized'])"
   ]
  },
  {
   "cell_type": "code",
   "execution_count": 86,
   "metadata": {
    "scrolled": true
   },
   "outputs": [
    {
     "name": "stdout",
     "output_type": "stream",
     "text": [
      "\n",
      "Unique tokens: 7251 \n",
      "Some examples:\n"
     ]
    },
    {
     "data": {
      "text/plain": [
       "[('aaron', 0),\n",
       " ('aback', 1),\n",
       " ('abandon', 2),\n",
       " ('abandoned', 3),\n",
       " ('abandonment', 4)]"
      ]
     },
     "execution_count": 86,
     "metadata": {},
     "output_type": "execute_result"
    }
   ],
   "source": [
    "vocabulary = vectorizer.vocabulary_\n",
    "vocabulary = {k: v for k, v in sorted(vocabulary.items(), key = lambda item: item[1])} \n",
    "print('\\nUnique tokens:', len(vocabulary), '\\nSome examples:')\n",
    "list(vocabulary.items())[:5]"
   ]
  },
  {
   "cell_type": "code",
   "execution_count": 87,
   "metadata": {},
   "outputs": [],
   "source": [
    "cos_sim = cosine_similarity(vectorized_plots) "
   ]
  },
  {
   "cell_type": "code",
   "execution_count": 88,
   "metadata": {},
   "outputs": [],
   "source": [
    "indices = pd.Series(final_data.index) \n",
    "  \n",
    "def recommendations(title): \n",
    "    \n",
    "    recommended_movies = []     \n",
    "    index = indices[indices == title].index[0]     \n",
    "    similarity_scores = pd.Series(cos_sim[index]).sort_values(ascending = False) \n",
    "    top_10_movies = list(similarity_scores.iloc[1:11].index) \n",
    "    \n",
    "    for i in top_10_movies: \n",
    "        recommended_movies.append(list(final_data.index)[i]) \n",
    "        \n",
    "    return recommended_movies \n",
    "\n",
    "def match_movie_names(text):\n",
    "    return indices[indices.str.lower().str.contains(text)]"
   ]
  },
  {
   "cell_type": "code",
   "execution_count": null,
   "metadata": {},
   "outputs": [],
   "source": []
  },
  {
   "cell_type": "markdown",
   "metadata": {},
   "source": [
    "#### Play around!"
   ]
  },
  {
   "cell_type": "code",
   "execution_count": 89,
   "metadata": {},
   "outputs": [
    {
     "data": {
      "text/plain": [
       "2637    The Shawshank Redemption\n",
       "Name: Title, dtype: object"
      ]
     },
     "execution_count": 89,
     "metadata": {},
     "output_type": "execute_result"
    }
   ],
   "source": [
    "match_movie_names('shaw')"
   ]
  },
  {
   "cell_type": "code",
   "execution_count": 90,
   "metadata": {},
   "outputs": [
    {
     "data": {
      "text/plain": [
       "['Real Time',\n",
       " ' The 40-Year-Old Virgin',\n",
       " \"Child's Play 2\",\n",
       " 'The Man',\n",
       " \"Before the Devil Knows You're Dead\",\n",
       " 'An American Werewolf in Paris',\n",
       " 'The Devil Wears Prada',\n",
       " 'Malice',\n",
       " 'Dog Park',\n",
       " \"Child's Play 3\"]"
      ]
     },
     "execution_count": 90,
     "metadata": {},
     "output_type": "execute_result"
    }
   ],
   "source": [
    "recommendations(\"The Shawshank Redemption\")"
   ]
  },
  {
   "cell_type": "code",
   "execution_count": null,
   "metadata": {},
   "outputs": [],
   "source": []
  }
 ],
 "metadata": {
  "kernelspec": {
   "display_name": "Python 3",
   "language": "python",
   "name": "python3"
  },
  "language_info": {
   "codemirror_mode": {
    "name": "ipython",
    "version": 3
   },
   "file_extension": ".py",
   "mimetype": "text/x-python",
   "name": "python",
   "nbconvert_exporter": "python",
   "pygments_lexer": "ipython3",
   "version": "3.7.3"
  }
 },
 "nbformat": 4,
 "nbformat_minor": 4
}
