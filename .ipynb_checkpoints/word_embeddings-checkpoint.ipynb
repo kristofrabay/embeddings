{
 "cells": [
  {
   "cell_type": "code",
   "execution_count": 3,
   "metadata": {},
   "outputs": [],
   "source": [
    "from sklearn.metrics.pairwise import cosine_similarity\n",
    "\n",
    "import pandas as pd\n",
    "import numpy as np\n",
    "import matplotlib.pyplot as plt\n",
    "import seaborn as sns\n",
    "\n",
    "import warnings\n",
    "warnings.filterwarnings('ignore')"
   ]
  },
  {
   "cell_type": "code",
   "execution_count": 206,
   "metadata": {},
   "outputs": [],
   "source": [
    "texts = ['Sasha had eggs for breakfast.', \n",
    "         'Breakfast is best served with eggs.',\n",
    "         'I do not want eggs for lunch, eggs are for breakfast',\n",
    "         'Lunch is after breakfast', \n",
    "         'It is freezing outside!']"
   ]
  },
  {
   "cell_type": "code",
   "execution_count": 207,
   "metadata": {},
   "outputs": [
    {
     "data": {
      "text/plain": [
       "['Sasha had eggs for breakfast.',\n",
       " 'Breakfast is best served with eggs.',\n",
       " 'I do not want eggs for lunch, eggs are for breakfast',\n",
       " 'Lunch is after breakfast',\n",
       " 'It is freezing outside!']"
      ]
     },
     "execution_count": 207,
     "metadata": {},
     "output_type": "execute_result"
    }
   ],
   "source": [
    "texts"
   ]
  },
  {
   "cell_type": "markdown",
   "metadata": {},
   "source": [
    "## Word2Vec\n",
    "\n",
    "One of the oldest but most used word embedding model. We can get the embedding vectors for each word in a document, average them and get the 'sentence embedding vector'. We can also check which words the Word2Vec model treats as very similar, or very opposite\n",
    "\n",
    "<img src='https://jalammar.github.io/images/word2vec/word2vec.png' width=600>"
   ]
  },
  {
   "cell_type": "code",
   "execution_count": 208,
   "metadata": {},
   "outputs": [],
   "source": [
    "import re\n",
    "from nltk.corpus import stopwords\n",
    "\n",
    "def process_text(text):    \n",
    "    text = text.lower()\n",
    "    \n",
    "    # remove stopwords\n",
    "    text = ' '.join([word for word in text.split() if word not in (stopwords.words('english'))])\n",
    "\n",
    "    # clean text\n",
    "    text = re.sub(r'\\([^)]*\\)', ' ', text) # between parentheses\n",
    "    text = re.compile('[^a-z]').sub(' ', text) # nonletters\n",
    "    text = re.compile('\\s+').sub(' ', text) # whitespaces\n",
    "    text = text.strip() # trailing whitespaces\n",
    "    \n",
    "    return text"
   ]
  },
  {
   "cell_type": "markdown",
   "metadata": {},
   "source": [
    "#### Cleaning our texts"
   ]
  },
  {
   "cell_type": "code",
   "execution_count": 209,
   "metadata": {},
   "outputs": [
    {
     "name": "stdout",
     "output_type": "stream",
     "text": [
      "Original texts:\n",
      "\n",
      "['Sasha had eggs for breakfast.', 'Breakfast is best served with eggs.', 'I do not want eggs for lunch, eggs are for breakfast', 'Lunch is after breakfast', 'It is freezing outside!']\n",
      "\n",
      "Cleaned texts:\n",
      "\n",
      "['sasha eggs breakfast', 'breakfast best served eggs', 'want eggs lunch eggs breakfast', 'lunch breakfast', 'freezing outside']\n"
     ]
    }
   ],
   "source": [
    "print('Original texts:\\n')\n",
    "print(texts)\n",
    "\n",
    "texts_cleaned = []\n",
    "\n",
    "for text in texts:\n",
    "    texts_cleaned.append(process_text(text))\n",
    "    \n",
    "print('\\nCleaned texts:\\n')\n",
    "print(texts_cleaned)"
   ]
  },
  {
   "cell_type": "markdown",
   "metadata": {},
   "source": [
    "#### Download and read pretrained Word2Vec model\n",
    "\n",
    "I could train my own vectors, but a pretrained matrix is going to be more accurate in new situations. Also, currently I'd only use 5 sentences, where there's basically nothing to learn, while a pretrained model will contain 3mill words, their meanings, similarities...\n",
    "\n",
    "- URL: https://s3.amazonaws.com/dl4j-distribution/GoogleNews-vectors-negative300.bin.gz\n",
    "- Size: 1.5 GB"
   ]
  },
  {
   "cell_type": "code",
   "execution_count": 9,
   "metadata": {},
   "outputs": [],
   "source": [
    "from gensim.models import KeyedVectors\n",
    "from gensim.models import Word2Vec"
   ]
  },
  {
   "cell_type": "code",
   "execution_count": 10,
   "metadata": {},
   "outputs": [],
   "source": [
    "EMBEDDING_FILE = '../GoogleNews-vectors-negative300.bin.gz'\n",
    "google_word2vec = KeyedVectors.load_word2vec_format(EMBEDDING_FILE, binary=True)"
   ]
  },
  {
   "cell_type": "code",
   "execution_count": 14,
   "metadata": {},
   "outputs": [
    {
     "name": "stdout",
     "output_type": "stream",
     "text": [
      "How many words are included in Google Word2Vec?  3000000\n"
     ]
    }
   ],
   "source": [
    "print('How many words are included in Google Word2Vec? ', len(google_word2vec.vocab))"
   ]
  },
  {
   "cell_type": "markdown",
   "metadata": {},
   "source": [
    "#### Explore embedding vectors"
   ]
  },
  {
   "cell_type": "code",
   "execution_count": 11,
   "metadata": {},
   "outputs": [
    {
     "name": "stdout",
     "output_type": "stream",
     "text": [
      "Representation of the word breakfast\n",
      "Shape of word vectors: (300,) \n",
      "\n",
      "[-0.20605469 -0.10693359 -0.21582031  0.31054688  0.05004883 -0.18359375\n",
      "  0.1171875   0.05615234  0.18261719  0.19726562  0.05615234  0.12158203\n",
      "  0.3046875   0.05395508 -0.015625    0.27929688 -0.07617188  0.18457031\n",
      "  0.3359375  -0.05883789  0.07128906 -0.00331116 -0.05371094  0.12890625\n",
      " -0.09326172  0.21484375 -0.15429688  0.05371094 -0.05566406  0.09082031\n",
      "  0.0390625  -0.1796875  -0.06347656 -0.07568359  0.07519531 -0.0390625\n",
      "  0.25       -0.16113281 -0.14550781  0.07324219 -0.26953125 -0.18652344\n",
      "  0.30859375  0.24902344  0.10253906 -0.18359375 -0.29296875  0.08496094\n",
      "  0.00466919  0.46875     0.04638672 -0.14160156  0.00534058  0.12011719\n",
      "  0.10791016 -0.18554688  0.13964844 -0.17578125 -0.14355469 -0.12158203\n",
      " -0.10498047  0.30273438 -0.13671875  0.0213623   0.29296875 -0.15234375\n",
      " -0.34375    -0.21386719  0.25976562  0.01660156  0.17871094  0.00436401\n",
      "  0.12695312 -0.01916504 -0.07861328 -0.0189209  -0.375       0.13085938\n",
      "  0.04589844 -0.10449219  0.07910156 -0.2578125  -0.14355469  0.18066406\n",
      " -0.11523438 -0.19824219 -0.07617188 -0.01757812  0.22363281 -0.15429688\n",
      " -0.03100586 -0.25        0.07714844 -0.203125   -0.11279297 -0.19921875\n",
      "  0.18164062 -0.04345703  0.2734375  -0.22753906 -0.20117188 -0.10546875\n",
      "  0.02160645  0.29492188 -0.04882812  0.12597656  0.08496094  0.04077148\n",
      "  0.08203125  0.01867676 -0.08056641 -0.30273438 -0.03881836  0.14160156\n",
      "  0.23632812 -0.18261719  0.328125   -0.03588867 -0.05859375 -0.0279541\n",
      " -0.02160645 -0.04052734  0.1796875  -0.01965332 -0.08496094  0.06494141\n",
      " -0.10058594  0.22363281  0.20507812  0.11621094 -0.14550781 -0.11865234\n",
      "  0.16113281  0.03369141 -0.3515625   0.14746094  0.24414062  0.19433594\n",
      "  0.31445312  0.33007812 -0.05102539 -0.07226562 -0.03686523 -0.51953125\n",
      "  0.00457764 -0.10644531  0.08544922 -0.20996094 -0.04467773  0.16601562\n",
      "  0.00970459  0.19140625 -0.0213623   0.13574219  0.32421875 -0.34960938\n",
      "  0.00253296 -0.17773438 -0.40234375 -0.03710938 -0.16796875  0.10791016\n",
      "  0.06542969 -0.0480957  -0.12011719  0.10009766 -0.0267334  -0.02661133\n",
      "  0.17578125 -0.01599121 -0.18457031  0.09277344  0.09472656 -0.09082031\n",
      " -0.21484375  0.01708984  0.07714844 -0.06835938 -0.0546875   0.2265625\n",
      "  0.02587891 -0.15332031 -0.03027344  0.09667969  0.20410156 -0.03759766\n",
      "  0.07421875 -0.07128906  0.08984375 -0.36523438 -0.12597656  0.07763672\n",
      "  0.10205078  0.24804688 -0.03173828  0.51171875 -0.16699219 -0.02709961\n",
      " -0.10644531  0.00921631 -0.08447266  0.12158203  0.01025391 -0.41796875\n",
      "  0.10791016 -0.10498047  0.11621094  0.1796875   0.24121094 -0.08007812\n",
      " -0.38085938 -0.08691406 -0.26367188 -0.02478027  0.06030273  0.10742188\n",
      "  0.2578125  -0.01623535 -0.18554688 -0.02331543  0.02197266 -0.02661133\n",
      "  0.1640625  -0.05175781  0.06176758 -0.25195312 -0.00159454  0.0612793\n",
      "  0.04345703 -0.02636719  0.14550781 -0.33398438 -0.15234375  0.27148438\n",
      "  0.16210938 -0.20507812  0.11035156  0.07617188 -0.0480957   0.2109375\n",
      "  0.19824219 -0.03930664 -0.07324219  0.08740234 -0.06884766 -0.02355957\n",
      "  0.13378906 -0.02697754 -0.0279541   0.00421143  0.06884766  0.40820312\n",
      "  0.09130859 -0.28125    -0.02685547 -0.10449219  0.04443359 -0.20019531\n",
      " -0.12451172 -0.07910156 -0.12451172  0.1171875  -0.26367188  0.01721191\n",
      " -0.06176758 -0.04003906  0.11914062  0.19042969 -0.19042969  0.16699219\n",
      " -0.07421875 -0.02490234  0.05322266 -0.22558594  0.05981445 -0.13183594\n",
      "  0.140625   -0.10107422  0.20214844 -0.12792969  0.02038574  0.18164062\n",
      " -0.05004883  0.06835938 -0.1015625  -0.03515625  0.0324707   0.22753906\n",
      " -0.12988281  0.35351562  0.07714844 -0.078125   -0.10351562  0.19628906\n",
      " -0.04125977 -0.32226562 -0.23242188  0.21679688  0.06738281  0.15039062]\n"
     ]
    }
   ],
   "source": [
    "word = 'breakfast'\n",
    "vector = google_word2vec.get_vector(word)\n",
    "\n",
    "print('Representation of the word', word)\n",
    "print('Shape of word vectors:', vector.shape, '\\n')\n",
    "print(vector)"
   ]
  },
  {
   "cell_type": "markdown",
   "metadata": {},
   "source": [
    "Similar words, similarities"
   ]
  },
  {
   "cell_type": "code",
   "execution_count": 12,
   "metadata": {},
   "outputs": [
    {
     "data": {
      "text/plain": [
       "0.7458728"
      ]
     },
     "execution_count": 12,
     "metadata": {},
     "output_type": "execute_result"
    }
   ],
   "source": [
    "google_word2vec.n_similarity('word', 'letter')"
   ]
  },
  {
   "cell_type": "code",
   "execution_count": 15,
   "metadata": {},
   "outputs": [
    {
     "data": {
      "text/plain": [
       "[('universities', 0.7003918886184692),\n",
       " ('faculty', 0.6780906915664673),\n",
       " ('unversity', 0.6758289933204651),\n",
       " ('undergraduate', 0.6587095260620117),\n",
       " ('univeristy', 0.6585438251495361)]"
      ]
     },
     "execution_count": 15,
     "metadata": {},
     "output_type": "execute_result"
    }
   ],
   "source": [
    "google_word2vec.most_similar(positive = ['university'], topn = 5)"
   ]
  },
  {
   "cell_type": "markdown",
   "metadata": {},
   "source": [
    "#### Getting the vectors for each word in each line"
   ]
  },
  {
   "cell_type": "code",
   "execution_count": 210,
   "metadata": {},
   "outputs": [],
   "source": [
    "vectors_lines = []\n",
    "\n",
    "for line in texts_cleaned:\n",
    "    \n",
    "    vectors = []\n",
    "    \n",
    "    for word in line.split():\n",
    "        \n",
    "        vectors.append(google_word2vec[word])\n",
    "        \n",
    "    vectors_lines.append(vectors)"
   ]
  },
  {
   "cell_type": "code",
   "execution_count": 211,
   "metadata": {},
   "outputs": [
    {
     "name": "stdout",
     "output_type": "stream",
     "text": [
      "['sasha eggs breakfast', 'breakfast best served eggs', 'want eggs lunch eggs breakfast', 'lunch breakfast', 'freezing outside'] \n",
      "\n",
      "Vectors in line 0 : 3\n",
      "Vectors in line 1 : 4\n",
      "Vectors in line 2 : 5\n",
      "Vectors in line 3 : 2\n",
      "Vectors in line 4 : 2\n"
     ]
    }
   ],
   "source": [
    "print(texts_cleaned, '\\n')\n",
    "\n",
    "for i, vector in enumerate(vectors_lines):\n",
    "    print('Vectors in line', i, ':', len(vector))"
   ]
  },
  {
   "cell_type": "markdown",
   "metadata": {},
   "source": [
    "#### Calculating average embedding per line (document)"
   ]
  },
  {
   "cell_type": "code",
   "execution_count": 212,
   "metadata": {},
   "outputs": [],
   "source": [
    "avg_vectors = []\n",
    "\n",
    "for vectors in vectors_lines:\n",
    "    \n",
    "    n = len(vectors)\n",
    "    N = np.zeros(300)\n",
    "    \n",
    "    for vector in vectors:\n",
    "        \n",
    "        N += vector\n",
    "        \n",
    "    avg_vector = N / n\n",
    "    \n",
    "    avg_vectors.append(avg_vector)"
   ]
  },
  {
   "cell_type": "markdown",
   "metadata": {},
   "source": [
    "#### Now every document is represented with vectors of the same length"
   ]
  },
  {
   "cell_type": "code",
   "execution_count": 213,
   "metadata": {},
   "outputs": [
    {
     "name": "stdout",
     "output_type": "stream",
     "text": [
      "Vector shape in line 0 : (300,)\n",
      "Vector shape in line 1 : (300,)\n",
      "Vector shape in line 2 : (300,)\n",
      "Vector shape in line 3 : (300,)\n",
      "Vector shape in line 4 : (300,)\n"
     ]
    }
   ],
   "source": [
    "for i, vector in enumerate(avg_vectors):\n",
    "    print('Vector shape in line', i, ':', vector.shape)"
   ]
  },
  {
   "cell_type": "markdown",
   "metadata": {},
   "source": [
    "### Applying our vectors to find similar documents"
   ]
  },
  {
   "cell_type": "code",
   "execution_count": 122,
   "metadata": {},
   "outputs": [],
   "source": [
    "def plot_cosine_similarity_matrix(matrix, original_data, title = 'Similarities between documents using tf-idf vectors\\n'):\n",
    "    \n",
    "    plt.figure(figsize = (7.5, 2.5))\n",
    "    sns.heatmap(matrix, cmap = 'coolwarm', center = 0, annot = True, \n",
    "                xticklabels = original_data.index.tolist(),\n",
    "                yticklabels = original_data.index.tolist())\n",
    "    plt.xticks(rotation = 30, horizontalalignment = 'right', fontsize = 10)\n",
    "    plt.yticks(fontsize = 10)\n",
    "    plt.title(title)\n",
    "    plt.show()"
   ]
  },
  {
   "cell_type": "code",
   "execution_count": 214,
   "metadata": {},
   "outputs": [
    {
     "name": "stdout",
     "output_type": "stream",
     "text": [
      "Showing just a couple of columns - we have 300 in total\n",
      "\n"
     ]
    },
    {
     "data": {
      "text/html": [
       "<div>\n",
       "<style scoped>\n",
       "    .dataframe tbody tr th:only-of-type {\n",
       "        vertical-align: middle;\n",
       "    }\n",
       "\n",
       "    .dataframe tbody tr th {\n",
       "        vertical-align: top;\n",
       "    }\n",
       "\n",
       "    .dataframe thead th {\n",
       "        text-align: right;\n",
       "    }\n",
       "</style>\n",
       "<table border=\"1\" class=\"dataframe\">\n",
       "  <thead>\n",
       "    <tr style=\"text-align: right;\">\n",
       "      <th></th>\n",
       "      <th>0</th>\n",
       "      <th>1</th>\n",
       "      <th>2</th>\n",
       "      <th>150</th>\n",
       "      <th>298</th>\n",
       "      <th>299</th>\n",
       "    </tr>\n",
       "  </thead>\n",
       "  <tbody>\n",
       "    <tr>\n",
       "      <th>Sasha had eggs for breakfast.</th>\n",
       "      <td>-0.149577</td>\n",
       "      <td>0.017253</td>\n",
       "      <td>-0.047407</td>\n",
       "      <td>0.016296</td>\n",
       "      <td>-0.019613</td>\n",
       "      <td>0.179036</td>\n",
       "    </tr>\n",
       "    <tr>\n",
       "      <th>Breakfast is best served with eggs.</th>\n",
       "      <td>-0.154297</td>\n",
       "      <td>-0.024780</td>\n",
       "      <td>0.022156</td>\n",
       "      <td>-0.019913</td>\n",
       "      <td>0.002747</td>\n",
       "      <td>0.075317</td>\n",
       "    </tr>\n",
       "    <tr>\n",
       "      <th>I do not want eggs for lunch, eggs are for breakfast</th>\n",
       "      <td>-0.136914</td>\n",
       "      <td>0.038794</td>\n",
       "      <td>-0.036230</td>\n",
       "      <td>0.026013</td>\n",
       "      <td>-0.014355</td>\n",
       "      <td>0.084204</td>\n",
       "    </tr>\n",
       "    <tr>\n",
       "      <th>Lunch is after breakfast</th>\n",
       "      <td>-0.199707</td>\n",
       "      <td>-0.042175</td>\n",
       "      <td>-0.221191</td>\n",
       "      <td>0.071259</td>\n",
       "      <td>-0.019775</td>\n",
       "      <td>0.084900</td>\n",
       "    </tr>\n",
       "    <tr>\n",
       "      <th>It is freezing outside!</th>\n",
       "      <td>-0.197266</td>\n",
       "      <td>-0.001831</td>\n",
       "      <td>0.032440</td>\n",
       "      <td>0.217773</td>\n",
       "      <td>-0.039093</td>\n",
       "      <td>-0.012207</td>\n",
       "    </tr>\n",
       "  </tbody>\n",
       "</table>\n",
       "</div>"
      ],
      "text/plain": [
       "                                                         0         1    \\\n",
       "Sasha had eggs for breakfast.                      -0.149577  0.017253   \n",
       "Breakfast is best served with eggs.                -0.154297 -0.024780   \n",
       "I do not want eggs for lunch, eggs are for brea... -0.136914  0.038794   \n",
       "Lunch is after breakfast                           -0.199707 -0.042175   \n",
       "It is freezing outside!                            -0.197266 -0.001831   \n",
       "\n",
       "                                                         2         150  \\\n",
       "Sasha had eggs for breakfast.                      -0.047407  0.016296   \n",
       "Breakfast is best served with eggs.                 0.022156 -0.019913   \n",
       "I do not want eggs for lunch, eggs are for brea... -0.036230  0.026013   \n",
       "Lunch is after breakfast                           -0.221191  0.071259   \n",
       "It is freezing outside!                             0.032440  0.217773   \n",
       "\n",
       "                                                         298       299  \n",
       "Sasha had eggs for breakfast.                      -0.019613  0.179036  \n",
       "Breakfast is best served with eggs.                 0.002747  0.075317  \n",
       "I do not want eggs for lunch, eggs are for brea... -0.014355  0.084204  \n",
       "Lunch is after breakfast                           -0.019775  0.084900  \n",
       "It is freezing outside!                            -0.039093 -0.012207  "
      ]
     },
     "execution_count": 214,
     "metadata": {},
     "output_type": "execute_result"
    }
   ],
   "source": [
    "print('Showing just a couple of columns - we have 300 in total\\n')\n",
    "embedded_data = pd.DataFrame(avg_vectors, index = texts)\n",
    "embedded_data.loc[:, [0, 1, 2, 150, 298, 299]]"
   ]
  },
  {
   "cell_type": "code",
   "execution_count": 215,
   "metadata": {},
   "outputs": [
    {
     "name": "stdout",
     "output_type": "stream",
     "text": [
      "Now calculating cosine similarities between sentences\n",
      "\n",
      "[[1.         0.7512166  0.89381    0.64398104 0.21090734]\n",
      " [0.7512166  1.         0.82858861 0.6422509  0.19954382]\n",
      " [0.89381    0.82858861 1.         0.71364833 0.24053428]\n",
      " [0.64398104 0.6422509  0.71364833 1.         0.10185465]\n",
      " [0.21090734 0.19954382 0.24053428 0.10185465 1.        ]]\n"
     ]
    }
   ],
   "source": [
    "print('Now calculating cosine similarities between sentences\\n')\n",
    "similarity_matrix_count = cosine_similarity(embedded_data)    \n",
    "print(similarity_matrix_count)"
   ]
  },
  {
   "cell_type": "code",
   "execution_count": 216,
   "metadata": {},
   "outputs": [
    {
     "data": {
      "image/png": "[encoded data removed]",
      "text/plain": [
       "<Figure size 540x180 with 2 Axes>"
      ]
     },
     "metadata": {
      "needs_background": "light"
     },
     "output_type": "display_data"
    }
   ],
   "source": [
    "plot_cosine_similarity_matrix(similarity_matrix_count, embedded_data, 'Leveraged Google word2vec, averaged for sentences\\n')"
   ]
  },
  {
   "cell_type": "markdown",
   "metadata": {},
   "source": [
    "#### Compare new text to our corpus"
   ]
  },
  {
   "cell_type": "code",
   "execution_count": 193,
   "metadata": {},
   "outputs": [],
   "source": [
    "def calculate_similarity_for_new_text(new_text, original_documents, word2vec_model, vectorized_documents):\n",
    "    \n",
    "    # clean \n",
    "    text = re.compile('[^a-zA-Z]').sub(' ', new_text)\n",
    "    text = re.compile('\\s+').sub(' ', text) # whitespaces\n",
    "    text = text.strip()\n",
    "    text = text.lower()\n",
    "\n",
    "    # get vectors of words\n",
    "    vectors = []\n",
    "    for word in text.split():           \n",
    "            vectors.append(word2vec_model[word])\n",
    "\n",
    "    # get vectors of sentences\n",
    "    n = len(vectors)\n",
    "    N = np.zeros(300)\n",
    "    for vector in vectors:\n",
    "        N += vector\n",
    "    avg_vector = N / n  \n",
    "    avg_vector = avg_vector.reshape(-1, 300)\n",
    "    \n",
    "    similarity_matrix = cosine_similarity(vectorized_documents, avg_vector)\n",
    "    \n",
    "    return pd.DataFrame(similarity_matrix, index = original_documents, columns = ['cosine_similarity']).sort_values('cosine_similarity', ascending = False)"
   ]
  },
  {
   "cell_type": "code",
   "execution_count": 219,
   "metadata": {},
   "outputs": [
    {
     "data": {
      "text/html": [
       "<div>\n",
       "<style scoped>\n",
       "    .dataframe tbody tr th:only-of-type {\n",
       "        vertical-align: middle;\n",
       "    }\n",
       "\n",
       "    .dataframe tbody tr th {\n",
       "        vertical-align: top;\n",
       "    }\n",
       "\n",
       "    .dataframe thead th {\n",
       "        text-align: right;\n",
       "    }\n",
       "</style>\n",
       "<table border=\"1\" class=\"dataframe\">\n",
       "  <thead>\n",
       "    <tr style=\"text-align: right;\">\n",
       "      <th></th>\n",
       "      <th>cosine_similarity</th>\n",
       "    </tr>\n",
       "  </thead>\n",
       "  <tbody>\n",
       "    <tr>\n",
       "      <th>Lunch is after breakfast</th>\n",
       "      <td>0.526238</td>\n",
       "    </tr>\n",
       "    <tr>\n",
       "      <th>Breakfast is best served with eggs.</th>\n",
       "      <td>0.494425</td>\n",
       "    </tr>\n",
       "    <tr>\n",
       "      <th>I do not want eggs for lunch, eggs are for breakfast</th>\n",
       "      <td>0.455898</td>\n",
       "    </tr>\n",
       "    <tr>\n",
       "      <th>Sasha had eggs for breakfast.</th>\n",
       "      <td>0.433329</td>\n",
       "    </tr>\n",
       "    <tr>\n",
       "      <th>It is freezing outside!</th>\n",
       "      <td>0.408983</td>\n",
       "    </tr>\n",
       "  </tbody>\n",
       "</table>\n",
       "</div>"
      ],
      "text/plain": [
       "                                                    cosine_similarity\n",
       "Lunch is after breakfast                                     0.526238\n",
       "Breakfast is best served with eggs.                          0.494425\n",
       "I do not want eggs for lunch, eggs are for brea...           0.455898\n",
       "Sasha had eggs for breakfast.                                0.433329\n",
       "It is freezing outside!                                      0.408983"
      ]
     },
     "execution_count": 219,
     "metadata": {},
     "output_type": "execute_result"
    }
   ],
   "source": [
    "new_text = 'Cold cuts for brunch!'\n",
    "\n",
    "calculate_similarity_for_new_text(new_text, texts, google_word2vec, embedded_data)"
   ]
  },
  {
   "cell_type": "code",
   "execution_count": 222,
   "metadata": {},
   "outputs": [
    {
     "data": {
      "text/html": [
       "<div>\n",
       "<style scoped>\n",
       "    .dataframe tbody tr th:only-of-type {\n",
       "        vertical-align: middle;\n",
       "    }\n",
       "\n",
       "    .dataframe tbody tr th {\n",
       "        vertical-align: top;\n",
       "    }\n",
       "\n",
       "    .dataframe thead th {\n",
       "        text-align: right;\n",
       "    }\n",
       "</style>\n",
       "<table border=\"1\" class=\"dataframe\">\n",
       "  <thead>\n",
       "    <tr style=\"text-align: right;\">\n",
       "      <th></th>\n",
       "      <th>cosine_similarity</th>\n",
       "    </tr>\n",
       "  </thead>\n",
       "  <tbody>\n",
       "    <tr>\n",
       "      <th>It is freezing outside!</th>\n",
       "      <td>0.499307</td>\n",
       "    </tr>\n",
       "    <tr>\n",
       "      <th>I do not want eggs for lunch, eggs are for breakfast</th>\n",
       "      <td>0.356542</td>\n",
       "    </tr>\n",
       "    <tr>\n",
       "      <th>Breakfast is best served with eggs.</th>\n",
       "      <td>0.349035</td>\n",
       "    </tr>\n",
       "    <tr>\n",
       "      <th>Sasha had eggs for breakfast.</th>\n",
       "      <td>0.331724</td>\n",
       "    </tr>\n",
       "    <tr>\n",
       "      <th>Lunch is after breakfast</th>\n",
       "      <td>0.319185</td>\n",
       "    </tr>\n",
       "  </tbody>\n",
       "</table>\n",
       "</div>"
      ],
      "text/plain": [
       "                                                    cosine_similarity\n",
       "It is freezing outside!                                      0.499307\n",
       "I do not want eggs for lunch, eggs are for brea...           0.356542\n",
       "Breakfast is best served with eggs.                          0.349035\n",
       "Sasha had eggs for breakfast.                                0.331724\n",
       "Lunch is after breakfast                                     0.319185"
      ]
     },
     "execution_count": 222,
     "metadata": {},
     "output_type": "execute_result"
    }
   ],
   "source": [
    "new_text = 'Cold weather for eating!'\n",
    "\n",
    "calculate_similarity_for_new_text(new_text, texts, google_word2vec, embedded_data)"
   ]
  },
  {
   "cell_type": "code",
   "execution_count": null,
   "metadata": {},
   "outputs": [],
   "source": []
  },
  {
   "cell_type": "markdown",
   "metadata": {},
   "source": [
    "## Using word2vec for movie recommendations\n",
    "\n",
    "Reading in my dataset containing plots of movies - cleaned and lemmatized in previous notebook (exploring tokenizers / vectorizers)"
   ]
  },
  {
   "cell_type": "code",
   "execution_count": 310,
   "metadata": {},
   "outputs": [
    {
     "data": {
      "text/html": [
       "<div>\n",
       "<style scoped>\n",
       "    .dataframe tbody tr th:only-of-type {\n",
       "        vertical-align: middle;\n",
       "    }\n",
       "\n",
       "    .dataframe tbody tr th {\n",
       "        vertical-align: top;\n",
       "    }\n",
       "\n",
       "    .dataframe thead th {\n",
       "        text-align: right;\n",
       "    }\n",
       "</style>\n",
       "<table border=\"1\" class=\"dataframe\">\n",
       "  <thead>\n",
       "    <tr style=\"text-align: right;\">\n",
       "      <th></th>\n",
       "      <th>Plot</th>\n",
       "      <th>plot_processed</th>\n",
       "      <th>plot_processed_lemmatized</th>\n",
       "    </tr>\n",
       "    <tr>\n",
       "      <th>Title</th>\n",
       "      <th></th>\n",
       "      <th></th>\n",
       "      <th></th>\n",
       "    </tr>\n",
       "  </thead>\n",
       "  <tbody>\n",
       "    <tr>\n",
       "      <th>Airplane!</th>\n",
       "      <td>As a parody film, Airplane! tells its story in...</td>\n",
       "      <td>parody film airplane tells story intermixed se...</td>\n",
       "      <td>parody film airplane tell story intermix sever...</td>\n",
       "    </tr>\n",
       "    <tr>\n",
       "      <th>Alien Dead</th>\n",
       "      <td>A meteor strikes a houseboat in the swamps nea...</td>\n",
       "      <td>meteor strikes houseboat swamps near southern ...</td>\n",
       "      <td>meteor strike houseboat swamp near southern to...</td>\n",
       "    </tr>\n",
       "    <tr>\n",
       "      <th>Alligator</th>\n",
       "      <td>A teenage girl purchases a baby American allig...</td>\n",
       "      <td>teenage girl purchases baby american alligator...</td>\n",
       "      <td>teenage girl purchase baby american alligator ...</td>\n",
       "    </tr>\n",
       "    <tr>\n",
       "      <th>Altered States</th>\n",
       "      <td>Edward Jessup is an abnormal psychologist who,...</td>\n",
       "      <td>edward jessup abnormal psychologist who studyi...</td>\n",
       "      <td>edward jessup abnormal psychologist who study ...</td>\n",
       "    </tr>\n",
       "    <tr>\n",
       "      <th>American Gigolo</th>\n",
       "      <td>Julian Kaye is a male escort in Los Angeles, w...</td>\n",
       "      <td>julian kaye male escort los angeles whose job ...</td>\n",
       "      <td>julian kaye male escort los angeles whose job ...</td>\n",
       "    </tr>\n",
       "  </tbody>\n",
       "</table>\n",
       "</div>"
      ],
      "text/plain": [
       "                                                              Plot  \\\n",
       "Title                                                                \n",
       "Airplane!        As a parody film, Airplane! tells its story in...   \n",
       "Alien Dead       A meteor strikes a houseboat in the swamps nea...   \n",
       "Alligator        A teenage girl purchases a baby American allig...   \n",
       "Altered States   Edward Jessup is an abnormal psychologist who,...   \n",
       "American Gigolo  Julian Kaye is a male escort in Los Angeles, w...   \n",
       "\n",
       "                                                    plot_processed  \\\n",
       "Title                                                                \n",
       "Airplane!        parody film airplane tells story intermixed se...   \n",
       "Alien Dead       meteor strikes houseboat swamps near southern ...   \n",
       "Alligator        teenage girl purchases baby american alligator...   \n",
       "Altered States   edward jessup abnormal psychologist who studyi...   \n",
       "American Gigolo  julian kaye male escort los angeles whose job ...   \n",
       "\n",
       "                                         plot_processed_lemmatized  \n",
       "Title                                                               \n",
       "Airplane!        parody film airplane tell story intermix sever...  \n",
       "Alien Dead       meteor strike houseboat swamp near southern to...  \n",
       "Alligator        teenage girl purchase baby american alligator ...  \n",
       "Altered States   edward jessup abnormal psychologist who study ...  \n",
       "American Gigolo  julian kaye male escort los angeles whose job ...  "
      ]
     },
     "execution_count": 310,
     "metadata": {},
     "output_type": "execute_result"
    }
   ],
   "source": [
    "data = pd.read_csv('data/movie_plots_cleaned.csv')\n",
    "data.set_index('Title', inplace = True)\n",
    "data = data[data['plot_processed_lemmatized'].notnull()]\n",
    "data.head()"
   ]
  },
  {
   "cell_type": "markdown",
   "metadata": {},
   "source": [
    "### 1. Using pretrained vectors\n",
    "\n",
    "Here if a word is not in Google's library, I'll impute it as a zero array of shape (300,) (=shape of word2vec vectors)"
   ]
  },
  {
   "cell_type": "markdown",
   "metadata": {},
   "source": [
    "Steps to take\n",
    "1. Vectorize each word in each plot\n",
    "2. Average word vectors in each plot\n",
    "3. Once I have 1 vector for 1 plot I can calculate cosine similarity"
   ]
  },
  {
   "cell_type": "markdown",
   "metadata": {},
   "source": [
    "#### 1. Vectorize each word"
   ]
  },
  {
   "cell_type": "code",
   "execution_count": 311,
   "metadata": {},
   "outputs": [],
   "source": [
    "vectors_lines = []\n",
    "\n",
    "for line in data['plot_processed_lemmatized']:\n",
    "    \n",
    "    vectors = []\n",
    "    \n",
    "    for word in line.split():\n",
    "        \n",
    "        if word not in google_word2vec.vocab:\n",
    "            vectors.append(np.zeros(300))\n",
    "            \n",
    "        else:\n",
    "            vectors.append(google_word2vec[word])\n",
    "        \n",
    "    vectors_lines.append(vectors)"
   ]
  },
  {
   "cell_type": "markdown",
   "metadata": {},
   "source": [
    "#### 2. Calculate avg vectors"
   ]
  },
  {
   "cell_type": "code",
   "execution_count": 312,
   "metadata": {},
   "outputs": [],
   "source": [
    "avg_vectors = []\n",
    "\n",
    "for vectors in vectors_lines:\n",
    "    \n",
    "    n = len(vectors)\n",
    "    N = np.zeros(300)\n",
    "    \n",
    "    for vector in vectors:\n",
    "        \n",
    "        N += vector\n",
    "        \n",
    "    avg_vector = N / n\n",
    "    \n",
    "    avg_vectors.append(avg_vector)"
   ]
  },
  {
   "cell_type": "markdown",
   "metadata": {},
   "source": [
    "#### 3. Calculate cosine similarity"
   ]
  },
  {
   "cell_type": "code",
   "execution_count": 313,
   "metadata": {},
   "outputs": [],
   "source": [
    "cos_sim = cosine_similarity(avg_vectors)"
   ]
  },
  {
   "cell_type": "code",
   "execution_count": 320,
   "metadata": {},
   "outputs": [],
   "source": [
    "def recommendations(title, data, indices): \n",
    "    \n",
    "    recommended_movies = []     \n",
    "    index = indices[indices == title].index[0]     \n",
    "    similarity_scores = pd.Series(cos_sim[index]).sort_values(ascending = False).iloc[1:11] \n",
    "    top_10_movies = list(similarity_scores.index) \n",
    "    \n",
    "    for i in top_10_movies: \n",
    "        recommended_movies.append(list(data.index)[i]) \n",
    "        \n",
    "    return dict(zip(recommended_movies, round(similarity_scores, 4)))\n",
    "\n",
    "# if sb would like to, they can also check least recommended movies (least similar in description)\n",
    "\n",
    "def recommendations_reverse(title, data, indices): \n",
    "    \n",
    "    recommended_movies = []     \n",
    "    index = indices[indices == title].index[0]     \n",
    "    similarity_scores = pd.Series(cos_sim[index]).sort_values(ascending = True).iloc[1:11] \n",
    "    top_10_movies = list(similarity_scores.index) \n",
    "    \n",
    "    for i in top_10_movies: \n",
    "        recommended_movies.append(list(data.index)[i]) \n",
    "        \n",
    "    return dict(zip(recommended_movies, round(similarity_scores, 4)))\n",
    "\n",
    "def match_movie_names(text):\n",
    "    return indices[indices.str.lower().str.contains(text)]\n",
    "\n",
    "indices = pd.Series(data.index) "
   ]
  },
  {
   "cell_type": "markdown",
   "metadata": {},
   "source": [
    "#### 4. Time for recommendations"
   ]
  },
  {
   "cell_type": "code",
   "execution_count": 316,
   "metadata": {},
   "outputs": [
    {
     "data": {
      "text/plain": [
       "419     Independence Day\n",
       "3066    Independence Day\n",
       "5214        The Departed\n",
       "9633     The Dependables\n",
       "Name: Title, dtype: object"
      ]
     },
     "execution_count": 316,
     "metadata": {},
     "output_type": "execute_result"
    }
   ],
   "source": [
    "match_movie_names('dep')"
   ]
  },
  {
   "cell_type": "code",
   "execution_count": 317,
   "metadata": {},
   "outputs": [
    {
     "name": "stdout",
     "output_type": "stream",
     "text": [
      "Top 10 recommendations for The Departed \n",
      "\n"
     ]
    },
    {
     "data": {
      "text/plain": [
       "{'Raw Deal': 0.9443,\n",
       " 'Street Kings': 0.9359,\n",
       " 'L.A. Confidential': 0.9358,\n",
       " 'Q&A': 0.9356,\n",
       " 'Haywire': 0.9353,\n",
       " 'Bad Boys': 0.9347,\n",
       " 'The Untouchables': 0.9347,\n",
       " ' 15 Minutes': 0.9346,\n",
       " 'Miami Vice': 0.9346,\n",
       " 'Heat, TheThe Heat': 0.934}"
      ]
     },
     "execution_count": 317,
     "metadata": {},
     "output_type": "execute_result"
    }
   ],
   "source": [
    "choose_movie_name = 'The Departed'\n",
    "\n",
    "print('Top 10 recommendations for', choose_movie_name, '\\n')\n",
    "recommendations(choose_movie_name, data, indices)"
   ]
  },
  {
   "cell_type": "code",
   "execution_count": null,
   "metadata": {},
   "outputs": [],
   "source": []
  },
  {
   "cell_type": "markdown",
   "metadata": {},
   "source": [
    "### 2. Training own word2vec vectors from movie plots data"
   ]
  },
  {
   "cell_type": "code",
   "execution_count": null,
   "metadata": {},
   "outputs": [],
   "source": []
  },
  {
   "cell_type": "code",
   "execution_count": null,
   "metadata": {},
   "outputs": [],
   "source": []
  },
  {
   "cell_type": "code",
   "execution_count": null,
   "metadata": {},
   "outputs": [],
   "source": []
  },
  {
   "cell_type": "code",
   "execution_count": null,
   "metadata": {},
   "outputs": [],
   "source": []
  },
  {
   "cell_type": "markdown",
   "metadata": {},
   "source": [
    "## Other models worth trying\n",
    "\n",
    "### Traditional (non-contextual = same vectors for the word in every situation)\n",
    "\n",
    "#### FastText, GloVe\n",
    "\n",
    "One of the big disadvantages of word2vec is that is a word is not in its vocabulary, it cannot return its vector. For that we can use FastText, which was trained to 'predict' words based on characters. So even is a word is not in its vocabulary, based on the characters, it will assign some meaning ( = vector ) to it\n",
    "\n",
    "<img src='https://amitness.com/images/fasttext-center-word-embedding.png' width=600>\n",
    "\n",
    "### Contextual \n",
    "\n",
    "Contextual word embedding models learn sequence-level semantics = 'Left something on the left side of the table' --> left has 2 meanings\n",
    "\n",
    "\n",
    "#### BERT, ELMo, ULMFiT\n",
    "\n",
    "\n",
    "<img src='https://jalammar.github.io/images/transformer-ber-ulmfit-elmo.png' width=600>"
   ]
  },
  {
   "cell_type": "markdown",
   "metadata": {},
   "source": [
    "https://medium.com/towards-artificial-intelligence/content-based-recommendation-system-using-word-embeddings-c1c15de1ef95"
   ]
  }
 ],
 "metadata": {
  "kernelspec": {
   "display_name": "Python 3",
   "language": "python",
   "name": "python3"
  },
  "language_info": {
   "codemirror_mode": {
    "name": "ipython",
    "version": 3
   },
   "file_extension": ".py",
   "mimetype": "text/x-python",
   "name": "python",
   "nbconvert_exporter": "python",
   "pygments_lexer": "ipython3",
   "version": "3.7.3"
  }
 },
 "nbformat": 4,
 "nbformat_minor": 4
}
